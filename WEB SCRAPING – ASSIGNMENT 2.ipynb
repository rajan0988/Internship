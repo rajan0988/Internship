{
 "cells": [
  {
   "cell_type": "code",
   "execution_count": 1,
   "id": "010efc6b",
   "metadata": {},
   "outputs": [
    {
     "name": "stdout",
     "output_type": "stream",
     "text": [
      "Collecting selenium\n",
      "  Downloading selenium-4.15.2-py3-none-any.whl (10.2 MB)\n",
      "     -------------------------------------- 10.2/10.2 MB 309.0 kB/s eta 0:00:00\n",
      "Requirement already satisfied: certifi>=2021.10.8 in c:\\users\\a\\anaconda3\\lib\\site-packages (from selenium) (2022.12.7)\n",
      "Requirement already satisfied: urllib3[socks]<3,>=1.26 in c:\\users\\a\\anaconda3\\lib\\site-packages (from selenium) (1.26.14)\n",
      "Collecting trio-websocket~=0.9\n",
      "  Downloading trio_websocket-0.11.1-py3-none-any.whl (17 kB)\n",
      "Collecting trio~=0.17\n",
      "  Downloading trio-0.23.1-py3-none-any.whl (448 kB)\n",
      "     ------------------------------------ 448.3/448.3 kB 175.2 kB/s eta 0:00:00\n",
      "Requirement already satisfied: sortedcontainers in c:\\users\\a\\anaconda3\\lib\\site-packages (from trio~=0.17->selenium) (2.4.0)\n",
      "Requirement already satisfied: cffi>=1.14 in c:\\users\\a\\anaconda3\\lib\\site-packages (from trio~=0.17->selenium) (1.15.1)\n",
      "Requirement already satisfied: attrs>=20.1.0 in c:\\users\\a\\anaconda3\\lib\\site-packages (from trio~=0.17->selenium) (22.1.0)\n",
      "Collecting outcome\n",
      "  Downloading outcome-1.3.0.post0-py2.py3-none-any.whl (10 kB)\n",
      "Requirement already satisfied: idna in c:\\users\\a\\anaconda3\\lib\\site-packages (from trio~=0.17->selenium) (3.4)\n",
      "Collecting exceptiongroup>=1.0.0rc9\n",
      "  Downloading exceptiongroup-1.1.3-py3-none-any.whl (14 kB)\n",
      "Collecting sniffio>=1.3.0\n",
      "  Downloading sniffio-1.3.0-py3-none-any.whl (10 kB)\n",
      "Collecting wsproto>=0.14\n",
      "  Downloading wsproto-1.2.0-py3-none-any.whl (24 kB)\n",
      "Requirement already satisfied: PySocks!=1.5.7,<2.0,>=1.5.6 in c:\\users\\a\\anaconda3\\lib\\site-packages (from urllib3[socks]<3,>=1.26->selenium) (1.7.1)\n",
      "Requirement already satisfied: pycparser in c:\\users\\a\\anaconda3\\lib\\site-packages (from cffi>=1.14->trio~=0.17->selenium) (2.21)\n",
      "Collecting h11<1,>=0.9.0\n",
      "  Downloading h11-0.14.0-py3-none-any.whl (58 kB)\n",
      "     -------------------------------------- 58.3/58.3 kB 340.6 kB/s eta 0:00:00\n",
      "Installing collected packages: sniffio, outcome, h11, exceptiongroup, wsproto, trio, trio-websocket, selenium\n",
      "  Attempting uninstall: sniffio\n",
      "    Found existing installation: sniffio 1.2.0\n",
      "    Uninstalling sniffio-1.2.0:\n",
      "      Successfully uninstalled sniffio-1.2.0\n",
      "Successfully installed exceptiongroup-1.1.3 h11-0.14.0 outcome-1.3.0.post0 selenium-4.15.2 sniffio-1.3.0 trio-0.23.1 trio-websocket-0.11.1 wsproto-1.2.0\n"
     ]
    }
   ],
   "source": [
    "!pip install selenium"
   ]
  },
  {
   "cell_type": "code",
   "execution_count": 4,
   "id": "ab56f683",
   "metadata": {},
   "outputs": [],
   "source": [
    "import selenium\n",
    "from selenium import webdriver\n",
    "import pandas as pd\n",
    "from selenium.webdriver.common.by import By\n",
    "import warnings\n",
    "warnings.filterwarnings(\"ignore\")\n",
    "import time "
   ]
  },
  {
   "cell_type": "code",
   "execution_count": 58,
   "id": "76a7ea56",
   "metadata": {},
   "outputs": [],
   "source": [
    "driver = webdriver.Chrome()"
   ]
  },
  {
   "cell_type": "markdown",
   "id": "cf787dc3",
   "metadata": {},
   "source": [
    "Question-1"
   ]
  },
  {
   "cell_type": "code",
   "execution_count": 60,
   "id": "53ba8b64",
   "metadata": {},
   "outputs": [],
   "source": [
    "driver.get(\"https://www.shine.com/\")"
   ]
  },
  {
   "cell_type": "code",
   "execution_count": 62,
   "id": "0eb2838c",
   "metadata": {},
   "outputs": [],
   "source": [
    "designation=driver.find_element(By.CLASS_NAME,\"form-control\")\n",
    "designation.send_keys(\"Data Analyst\")"
   ]
  },
  {
   "cell_type": "code",
   "execution_count": 64,
   "id": "d497bde7",
   "metadata": {},
   "outputs": [],
   "source": [
    "location=driver.find_element(By.XPATH,'/html/body/div/div[4]/div/div[2]/div[2]/div/form/div/div[1]/ul/li[2]/div/input')\n",
    "location.send_keys('Bangalore')"
   ]
  },
  {
   "cell_type": "code",
   "execution_count": 65,
   "id": "a7dd379f",
   "metadata": {},
   "outputs": [],
   "source": [
    "search=driver.find_element(By.XPATH,'/html/body/div/div[4]/div/div[2]/div[2]/div/form/div/div[2]/div/button')\n",
    "search.click()"
   ]
  },
  {
   "cell_type": "code",
   "execution_count": 101,
   "id": "4f0cdee5",
   "metadata": {},
   "outputs": [],
   "source": [
    "job_location=[]\n",
    "company_name=[]\n",
    "experience_required=[]"
   ]
  },
  {
   "cell_type": "code",
   "execution_count": 102,
   "id": "3fff8620",
   "metadata": {},
   "outputs": [],
   "source": [
    "company_tags=driver.find_elements(By.XPATH,\"//div[@class='jobCard_jobCard_cName__mYnow']\")\n",
    "for i in company_tags:\n",
    "    company=i.text\n",
    "    company_name.append(company)\n",
    "\n",
    "location_tags=driver.find_elements(By.XPATH,\"//div[@class='jobCard_jobCard_lists__fdnsc']\")\n",
    "for i in location_tags:\n",
    "    location=i.text\n",
    "    job_location.append(location)\n",
    "\n",
    "experience_tags=driver.find_elements(By.XPATH,\"//div[@class=' jobCard_jobCard_lists_item__YxRkV jobCard_jobIcon__3FB1t']\")\n",
    "for i in experience_tags:\n",
    "    experience=i.text\n",
    "    experience_required.append(experience)\n"
   ]
  },
  {
   "cell_type": "code",
   "execution_count": 103,
   "id": "efe43d4e",
   "metadata": {},
   "outputs": [
    {
     "name": "stdout",
     "output_type": "stream",
     "text": [
      "20 20 20\n"
     ]
    }
   ],
   "source": [
    "print(len(company_name),len(job_location),len(experience_required))"
   ]
  },
  {
   "cell_type": "code",
   "execution_count": 104,
   "id": "e6ad28ef",
   "metadata": {},
   "outputs": [
    {
     "data": {
      "text/html": [
       "<div>\n",
       "<style scoped>\n",
       "    .dataframe tbody tr th:only-of-type {\n",
       "        vertical-align: middle;\n",
       "    }\n",
       "\n",
       "    .dataframe tbody tr th {\n",
       "        vertical-align: top;\n",
       "    }\n",
       "\n",
       "    .dataframe thead th {\n",
       "        text-align: right;\n",
       "    }\n",
       "</style>\n",
       "<table border=\"1\" class=\"dataframe\">\n",
       "  <thead>\n",
       "    <tr style=\"text-align: right;\">\n",
       "      <th></th>\n",
       "      <th>Location</th>\n",
       "      <th>Company_name</th>\n",
       "      <th>Experience</th>\n",
       "    </tr>\n",
       "  </thead>\n",
       "  <tbody>\n",
       "    <tr>\n",
       "      <th>0</th>\n",
       "      <td>0 to 4 Yrs\\nBangalore\\n+14</td>\n",
       "      <td>divya interprises</td>\n",
       "      <td>0 to 4 Yrs</td>\n",
       "    </tr>\n",
       "    <tr>\n",
       "      <th>1</th>\n",
       "      <td>0 to 4 Yrs\\nBangalore\\n+14</td>\n",
       "      <td>divya interprises</td>\n",
       "      <td>0 to 4 Yrs</td>\n",
       "    </tr>\n",
       "    <tr>\n",
       "      <th>2</th>\n",
       "      <td>0 to 2 Yrs\\nBangalore\\n+4</td>\n",
       "      <td>quiscon biotech</td>\n",
       "      <td>0 to 2 Yrs</td>\n",
       "    </tr>\n",
       "    <tr>\n",
       "      <th>3</th>\n",
       "      <td>0 to 4 Yrs\\nBangalore\\n+14</td>\n",
       "      <td>divya interprises</td>\n",
       "      <td>0 to 4 Yrs</td>\n",
       "    </tr>\n",
       "    <tr>\n",
       "      <th>4</th>\n",
       "      <td>0 to 4 Yrs\\nBangalore\\n+14</td>\n",
       "      <td>divya interprises</td>\n",
       "      <td>0 to 4 Yrs</td>\n",
       "    </tr>\n",
       "    <tr>\n",
       "      <th>5</th>\n",
       "      <td>0 to 4 Yrs\\nBangalore\\n+14</td>\n",
       "      <td>divya interprises</td>\n",
       "      <td>0 to 4 Yrs</td>\n",
       "    </tr>\n",
       "    <tr>\n",
       "      <th>6</th>\n",
       "      <td>1 to 3 Yrs\\nBangalore</td>\n",
       "      <td>merck ltd</td>\n",
       "      <td>1 to 3 Yrs</td>\n",
       "    </tr>\n",
       "    <tr>\n",
       "      <th>7</th>\n",
       "      <td>0 to 1 Yr\\nBangalore\\n+6</td>\n",
       "      <td>techno endura</td>\n",
       "      <td>0 to 1 Yr</td>\n",
       "    </tr>\n",
       "    <tr>\n",
       "      <th>8</th>\n",
       "      <td>0 to 4 Yrs\\nBangalore</td>\n",
       "      <td>jpmorgan</td>\n",
       "      <td>0 to 4 Yrs</td>\n",
       "    </tr>\n",
       "    <tr>\n",
       "      <th>9</th>\n",
       "      <td>0 to 4 Yrs\\nBangalore\\n+14</td>\n",
       "      <td>divya interprises</td>\n",
       "      <td>0 to 4 Yrs</td>\n",
       "    </tr>\n",
       "    <tr>\n",
       "      <th>10</th>\n",
       "      <td>0 to 2 Yrs\\nBangalore\\n+9</td>\n",
       "      <td>v-tech data outsourcing</td>\n",
       "      <td>0 to 2 Yrs</td>\n",
       "    </tr>\n",
       "    <tr>\n",
       "      <th>11</th>\n",
       "      <td>5 to 10 Yrs\\nBangalore</td>\n",
       "      <td>cisco systems, inc.</td>\n",
       "      <td>5 to 10 Yrs</td>\n",
       "    </tr>\n",
       "    <tr>\n",
       "      <th>12</th>\n",
       "      <td>2 to 4 Yrs\\nBangalore</td>\n",
       "      <td>paytm</td>\n",
       "      <td>2 to 4 Yrs</td>\n",
       "    </tr>\n",
       "    <tr>\n",
       "      <th>13</th>\n",
       "      <td>3 to 5 Yrs\\nBangalore</td>\n",
       "      <td>dell</td>\n",
       "      <td>3 to 5 Yrs</td>\n",
       "    </tr>\n",
       "    <tr>\n",
       "      <th>14</th>\n",
       "      <td>3 to 5 Yrs\\nBangalore</td>\n",
       "      <td>jpmorgan</td>\n",
       "      <td>3 to 5 Yrs</td>\n",
       "    </tr>\n",
       "    <tr>\n",
       "      <th>15</th>\n",
       "      <td>2 to 3 Yrs\\nBangalore</td>\n",
       "      <td>schneider electric</td>\n",
       "      <td>2 to 3 Yrs</td>\n",
       "    </tr>\n",
       "    <tr>\n",
       "      <th>16</th>\n",
       "      <td>2 to 4 Yrs\\nBangalore</td>\n",
       "      <td>futures and careers</td>\n",
       "      <td>2 to 4 Yrs</td>\n",
       "    </tr>\n",
       "    <tr>\n",
       "      <th>17</th>\n",
       "      <td>2 to 4 Yrs\\nBangalore</td>\n",
       "      <td>futures and careers</td>\n",
       "      <td>2 to 4 Yrs</td>\n",
       "    </tr>\n",
       "    <tr>\n",
       "      <th>18</th>\n",
       "      <td>5 to 7 Yrs\\nBangalore</td>\n",
       "      <td>ntt limited</td>\n",
       "      <td>5 to 7 Yrs</td>\n",
       "    </tr>\n",
       "    <tr>\n",
       "      <th>19</th>\n",
       "      <td>4 to 6 Yrs\\nBangalore</td>\n",
       "      <td>infosys limited</td>\n",
       "      <td>4 to 6 Yrs</td>\n",
       "    </tr>\n",
       "  </tbody>\n",
       "</table>\n",
       "</div>"
      ],
      "text/plain": [
       "                      Location             Company_name   Experience\n",
       "0   0 to 4 Yrs\\nBangalore\\n+14        divya interprises   0 to 4 Yrs\n",
       "1   0 to 4 Yrs\\nBangalore\\n+14        divya interprises   0 to 4 Yrs\n",
       "2    0 to 2 Yrs\\nBangalore\\n+4          quiscon biotech   0 to 2 Yrs\n",
       "3   0 to 4 Yrs\\nBangalore\\n+14        divya interprises   0 to 4 Yrs\n",
       "4   0 to 4 Yrs\\nBangalore\\n+14        divya interprises   0 to 4 Yrs\n",
       "5   0 to 4 Yrs\\nBangalore\\n+14        divya interprises   0 to 4 Yrs\n",
       "6        1 to 3 Yrs\\nBangalore                merck ltd   1 to 3 Yrs\n",
       "7     0 to 1 Yr\\nBangalore\\n+6            techno endura    0 to 1 Yr\n",
       "8        0 to 4 Yrs\\nBangalore                 jpmorgan   0 to 4 Yrs\n",
       "9   0 to 4 Yrs\\nBangalore\\n+14        divya interprises   0 to 4 Yrs\n",
       "10   0 to 2 Yrs\\nBangalore\\n+9  v-tech data outsourcing   0 to 2 Yrs\n",
       "11      5 to 10 Yrs\\nBangalore      cisco systems, inc.  5 to 10 Yrs\n",
       "12       2 to 4 Yrs\\nBangalore                    paytm   2 to 4 Yrs\n",
       "13       3 to 5 Yrs\\nBangalore                     dell   3 to 5 Yrs\n",
       "14       3 to 5 Yrs\\nBangalore                 jpmorgan   3 to 5 Yrs\n",
       "15       2 to 3 Yrs\\nBangalore       schneider electric   2 to 3 Yrs\n",
       "16       2 to 4 Yrs\\nBangalore      futures and careers   2 to 4 Yrs\n",
       "17       2 to 4 Yrs\\nBangalore      futures and careers   2 to 4 Yrs\n",
       "18       5 to 7 Yrs\\nBangalore              ntt limited   5 to 7 Yrs\n",
       "19       4 to 6 Yrs\\nBangalore          infosys limited   4 to 6 Yrs"
      ]
     },
     "execution_count": 104,
     "metadata": {},
     "output_type": "execute_result"
    }
   ],
   "source": [
    "import pandas as pd\n",
    "df=pd.DataFrame({'Location':job_location, 'Company_name':company_name,'Experience':experience_required})\n",
    "df\n"
   ]
  },
  {
   "cell_type": "markdown",
   "id": "9e195de0",
   "metadata": {},
   "source": [
    "Question-2"
   ]
  },
  {
   "cell_type": "code",
   "execution_count": 105,
   "id": "c98aee81",
   "metadata": {},
   "outputs": [],
   "source": [
    "driver = webdriver.Chrome()"
   ]
  },
  {
   "cell_type": "code",
   "execution_count": 106,
   "id": "eaf7d647",
   "metadata": {},
   "outputs": [],
   "source": [
    "driver.get(\"https://www.shine.com/\")"
   ]
  },
  {
   "cell_type": "code",
   "execution_count": 108,
   "id": "0fa79c82",
   "metadata": {},
   "outputs": [],
   "source": [
    "designation=driver.find_element(By.CLASS_NAME,\"form-control\")\n",
    "designation.send_keys(\"Data Scientist\")"
   ]
  },
  {
   "cell_type": "code",
   "execution_count": 109,
   "id": "62a2dc92",
   "metadata": {},
   "outputs": [],
   "source": [
    "location=driver.find_element(By.XPATH,'/html/body/div/div[4]/div/div[2]/div[2]/div/form/div/div[1]/ul/li[2]/div/input')\n",
    "location.send_keys('Bangalore')"
   ]
  },
  {
   "cell_type": "code",
   "execution_count": 110,
   "id": "8231548c",
   "metadata": {},
   "outputs": [],
   "source": [
    "search=driver.find_element(By.XPATH,'/html/body/div/div[4]/div/div[2]/div[2]/div/form/div/div[2]/div/button')\n",
    "search.click()"
   ]
  },
  {
   "cell_type": "code",
   "execution_count": 112,
   "id": "29a0e88f",
   "metadata": {},
   "outputs": [],
   "source": [
    "job_location=[]\n",
    "company_name=[]\n",
    "experience_required=[]\n"
   ]
  },
  {
   "cell_type": "code",
   "execution_count": 113,
   "id": "bc31f195",
   "metadata": {},
   "outputs": [],
   "source": [
    "company_tags=driver.find_elements(By.XPATH,\"//div[@class='jobCard_jobCard_cName__mYnow']\")\n",
    "for i in company_tags:\n",
    "    company=i.text\n",
    "    company_name.append(company)\n",
    "\n",
    "location_tags=driver.find_elements(By.XPATH,\"//div[@class='jobCard_jobCard_lists__fdnsc']\")\n",
    "for i in location_tags:\n",
    "    location=i.text\n",
    "    job_location.append(location)\n",
    "\n",
    "experience_tags=driver.find_elements(By.XPATH,\"//div[@class=' jobCard_jobCard_lists_item__YxRkV jobCard_jobIcon__3FB1t']\")\n",
    "for i in experience_tags:\n",
    "    experience=i.text\n",
    "    experience_required.append(experience)\n"
   ]
  },
  {
   "cell_type": "code",
   "execution_count": 114,
   "id": "2c432161",
   "metadata": {},
   "outputs": [
    {
     "name": "stdout",
     "output_type": "stream",
     "text": [
      "20 20 20\n"
     ]
    }
   ],
   "source": [
    "print(len(company_name),len(job_location),len(experience_required))"
   ]
  },
  {
   "cell_type": "code",
   "execution_count": 115,
   "id": "9e0f0317",
   "metadata": {},
   "outputs": [
    {
     "data": {
      "text/html": [
       "<div>\n",
       "<style scoped>\n",
       "    .dataframe tbody tr th:only-of-type {\n",
       "        vertical-align: middle;\n",
       "    }\n",
       "\n",
       "    .dataframe tbody tr th {\n",
       "        vertical-align: top;\n",
       "    }\n",
       "\n",
       "    .dataframe thead th {\n",
       "        text-align: right;\n",
       "    }\n",
       "</style>\n",
       "<table border=\"1\" class=\"dataframe\">\n",
       "  <thead>\n",
       "    <tr style=\"text-align: right;\">\n",
       "      <th></th>\n",
       "      <th>Location</th>\n",
       "      <th>Company_name</th>\n",
       "      <th>Experience</th>\n",
       "    </tr>\n",
       "  </thead>\n",
       "  <tbody>\n",
       "    <tr>\n",
       "      <th>0</th>\n",
       "      <td>0 to 4 Yrs\\nBangalore\\n+14</td>\n",
       "      <td>divya interprises</td>\n",
       "      <td>0 to 4 Yrs</td>\n",
       "    </tr>\n",
       "    <tr>\n",
       "      <th>1</th>\n",
       "      <td>0 to 4 Yrs\\nBangalore\\n+14</td>\n",
       "      <td>divya interprises</td>\n",
       "      <td>0 to 4 Yrs</td>\n",
       "    </tr>\n",
       "    <tr>\n",
       "      <th>2</th>\n",
       "      <td>0 to 3 Yrs\\nBangalore</td>\n",
       "      <td>the fashion cosmo</td>\n",
       "      <td>0 to 3 Yrs</td>\n",
       "    </tr>\n",
       "    <tr>\n",
       "      <th>3</th>\n",
       "      <td>3 to 5 Yrs\\nBangalore</td>\n",
       "      <td>bosch group</td>\n",
       "      <td>3 to 5 Yrs</td>\n",
       "    </tr>\n",
       "    <tr>\n",
       "      <th>4</th>\n",
       "      <td>0 to 3 Yrs\\nBangalore</td>\n",
       "      <td>shiva hr services</td>\n",
       "      <td>0 to 3 Yrs</td>\n",
       "    </tr>\n",
       "    <tr>\n",
       "      <th>5</th>\n",
       "      <td>3 to 5 Yrs\\nBangalore</td>\n",
       "      <td>bosch group</td>\n",
       "      <td>3 to 5 Yrs</td>\n",
       "    </tr>\n",
       "    <tr>\n",
       "      <th>6</th>\n",
       "      <td>2 to 5 Yrs\\nBangalore</td>\n",
       "      <td>bosch group</td>\n",
       "      <td>2 to 5 Yrs</td>\n",
       "    </tr>\n",
       "    <tr>\n",
       "      <th>7</th>\n",
       "      <td>0 to 4 Yrs\\nBangalore\\n+14</td>\n",
       "      <td>divya interprises</td>\n",
       "      <td>0 to 4 Yrs</td>\n",
       "    </tr>\n",
       "    <tr>\n",
       "      <th>8</th>\n",
       "      <td>3 to 6 Yrs\\nBangalore</td>\n",
       "      <td>racanaa energy solution private lim...</td>\n",
       "      <td>3 to 6 Yrs</td>\n",
       "    </tr>\n",
       "    <tr>\n",
       "      <th>9</th>\n",
       "      <td>8 to 12 Yrs\\nBangalore</td>\n",
       "      <td>true caller</td>\n",
       "      <td>8 to 12 Yrs</td>\n",
       "    </tr>\n",
       "    <tr>\n",
       "      <th>10</th>\n",
       "      <td>6 to 11 Yrs\\nBangalore\\n+8</td>\n",
       "      <td>capgemini technology services india...</td>\n",
       "      <td>6 to 11 Yrs</td>\n",
       "    </tr>\n",
       "    <tr>\n",
       "      <th>11</th>\n",
       "      <td>3 to 5 Yrs\\nBangalore</td>\n",
       "      <td>jpmorgan</td>\n",
       "      <td>3 to 5 Yrs</td>\n",
       "    </tr>\n",
       "    <tr>\n",
       "      <th>12</th>\n",
       "      <td>0 to 4 Yrs\\nBangalore</td>\n",
       "      <td>siemens limited</td>\n",
       "      <td>0 to 4 Yrs</td>\n",
       "    </tr>\n",
       "    <tr>\n",
       "      <th>13</th>\n",
       "      <td>3 to 6 Yrs\\nBangalore\\n+1</td>\n",
       "      <td>mnr solutions pvt ltd</td>\n",
       "      <td>3 to 6 Yrs</td>\n",
       "    </tr>\n",
       "    <tr>\n",
       "      <th>14</th>\n",
       "      <td>0 to 4 Yrs\\nBangalore</td>\n",
       "      <td>bosch group</td>\n",
       "      <td>0 to 4 Yrs</td>\n",
       "    </tr>\n",
       "    <tr>\n",
       "      <th>15</th>\n",
       "      <td>3 to 6 Yrs\\nBangalore\\n+6</td>\n",
       "      <td>mnr solutions pvt ltd</td>\n",
       "      <td>3 to 6 Yrs</td>\n",
       "    </tr>\n",
       "    <tr>\n",
       "      <th>16</th>\n",
       "      <td>0 to 4 Yrs\\nBangalore</td>\n",
       "      <td>mercede</td>\n",
       "      <td>0 to 4 Yrs</td>\n",
       "    </tr>\n",
       "    <tr>\n",
       "      <th>17</th>\n",
       "      <td>0 to 3 Yrs\\nBangalore</td>\n",
       "      <td>the fashion cosmo</td>\n",
       "      <td>0 to 3 Yrs</td>\n",
       "    </tr>\n",
       "    <tr>\n",
       "      <th>18</th>\n",
       "      <td>0 to 4 Yrs\\nBangalore</td>\n",
       "      <td>bosch group</td>\n",
       "      <td>0 to 4 Yrs</td>\n",
       "    </tr>\n",
       "    <tr>\n",
       "      <th>19</th>\n",
       "      <td>0 to 2 Yrs\\nBangalore</td>\n",
       "      <td>infosys limited</td>\n",
       "      <td>0 to 2 Yrs</td>\n",
       "    </tr>\n",
       "  </tbody>\n",
       "</table>\n",
       "</div>"
      ],
      "text/plain": [
       "                      Location                            Company_name  \\\n",
       "0   0 to 4 Yrs\\nBangalore\\n+14                       divya interprises   \n",
       "1   0 to 4 Yrs\\nBangalore\\n+14                       divya interprises   \n",
       "2        0 to 3 Yrs\\nBangalore                       the fashion cosmo   \n",
       "3        3 to 5 Yrs\\nBangalore                             bosch group   \n",
       "4        0 to 3 Yrs\\nBangalore                       shiva hr services   \n",
       "5        3 to 5 Yrs\\nBangalore                             bosch group   \n",
       "6        2 to 5 Yrs\\nBangalore                             bosch group   \n",
       "7   0 to 4 Yrs\\nBangalore\\n+14                       divya interprises   \n",
       "8        3 to 6 Yrs\\nBangalore  racanaa energy solution private lim...   \n",
       "9       8 to 12 Yrs\\nBangalore                             true caller   \n",
       "10  6 to 11 Yrs\\nBangalore\\n+8  capgemini technology services india...   \n",
       "11       3 to 5 Yrs\\nBangalore                                jpmorgan   \n",
       "12       0 to 4 Yrs\\nBangalore                         siemens limited   \n",
       "13   3 to 6 Yrs\\nBangalore\\n+1                   mnr solutions pvt ltd   \n",
       "14       0 to 4 Yrs\\nBangalore                             bosch group   \n",
       "15   3 to 6 Yrs\\nBangalore\\n+6                   mnr solutions pvt ltd   \n",
       "16       0 to 4 Yrs\\nBangalore                                 mercede   \n",
       "17       0 to 3 Yrs\\nBangalore                       the fashion cosmo   \n",
       "18       0 to 4 Yrs\\nBangalore                             bosch group   \n",
       "19       0 to 2 Yrs\\nBangalore                         infosys limited   \n",
       "\n",
       "     Experience  \n",
       "0    0 to 4 Yrs  \n",
       "1    0 to 4 Yrs  \n",
       "2    0 to 3 Yrs  \n",
       "3    3 to 5 Yrs  \n",
       "4    0 to 3 Yrs  \n",
       "5    3 to 5 Yrs  \n",
       "6    2 to 5 Yrs  \n",
       "7    0 to 4 Yrs  \n",
       "8    3 to 6 Yrs  \n",
       "9   8 to 12 Yrs  \n",
       "10  6 to 11 Yrs  \n",
       "11   3 to 5 Yrs  \n",
       "12   0 to 4 Yrs  \n",
       "13   3 to 6 Yrs  \n",
       "14   0 to 4 Yrs  \n",
       "15   3 to 6 Yrs  \n",
       "16   0 to 4 Yrs  \n",
       "17   0 to 3 Yrs  \n",
       "18   0 to 4 Yrs  \n",
       "19   0 to 2 Yrs  "
      ]
     },
     "execution_count": 115,
     "metadata": {},
     "output_type": "execute_result"
    }
   ],
   "source": [
    "import pandas as pd\n",
    "df=pd.DataFrame({'Location':job_location, 'Company_name':company_name,'Experience':experience_required})\n",
    "df"
   ]
  },
  {
   "cell_type": "markdown",
   "id": "7a51ce70",
   "metadata": {},
   "source": [
    "Question-3"
   ]
  },
  {
   "cell_type": "code",
   "execution_count": 150,
   "id": "78357e3a",
   "metadata": {},
   "outputs": [],
   "source": [
    "driver = webdriver.Chrome()"
   ]
  },
  {
   "cell_type": "code",
   "execution_count": 151,
   "id": "bea4b1b6",
   "metadata": {},
   "outputs": [],
   "source": [
    "driver.get(\"https://www.shine.com/\")"
   ]
  },
  {
   "cell_type": "code",
   "execution_count": 152,
   "id": "59958432",
   "metadata": {},
   "outputs": [],
   "source": [
    "designation=driver.find_element(By.CLASS_NAME,\"form-control\")\n",
    "designation.send_keys(\"Data Scientist\")"
   ]
  },
  {
   "cell_type": "code",
   "execution_count": 153,
   "id": "a4bc3750",
   "metadata": {},
   "outputs": [],
   "source": [
    "search=driver.find_element(By.XPATH,'/html/body/div/div[4]/div/div[2]/div[2]/div/form/div/div[2]/div/button')\n",
    "search.click()"
   ]
  },
  {
   "cell_type": "code",
   "execution_count": 154,
   "id": "0f9a1e99",
   "metadata": {},
   "outputs": [],
   "source": [
    "location_filter=driver.find_element(By.XPATH,'/html/body/div[1]/div[1]/div[3]/div/div[1]/div/div[2]/div/ul/li[1]/button')\n",
    "location_filter.click()\n"
   ]
  },
  {
   "cell_type": "code",
   "execution_count": 157,
   "id": "ebd87a1e",
   "metadata": {},
   "outputs": [],
   "source": [
    "salary=driver.find_element(By.XPATH,'/html/body/div[1]/div[1]/div[3]/div/div[1]/div/div[2]/div/ul/li[3]/button')\n",
    "salary.click()"
   ]
  },
  {
   "cell_type": "code",
   "execution_count": 158,
   "id": "f058ddbe",
   "metadata": {},
   "outputs": [],
   "source": [
    "job_location=[]\n",
    "company_name=[]\n",
    "experience_required=[]"
   ]
  },
  {
   "cell_type": "code",
   "execution_count": 159,
   "id": "88af10d3",
   "metadata": {},
   "outputs": [],
   "source": [
    "company_tags=driver.find_elements(By.XPATH,'//div[@class=\"jobCard_jobCard_cName__mYnow\"]')\n",
    "for i in company_tags:\n",
    "    company=i.text\n",
    "    company_name.append(company)\n",
    "\n",
    "location_tags=driver.find_elements(By.XPATH,'//div[@class=\" jobCard_jobCard_lists_item__YxRkV jobCard_locationIcon__zrWt2\"]')\n",
    "for i in location_tags:\n",
    "    location=i.text\n",
    "    job_location.append(location)\n",
    "\n",
    "experience_tags=driver.find_elements(By.XPATH,'//div[@class=\" jobCard_jobCard_lists_item__YxRkV jobCard_jobIcon__3FB1t\"]')\n",
    "for i in experience_tags:\n",
    "    experience=i.text\n",
    "    experience_required.append(experience)\n"
   ]
  },
  {
   "cell_type": "code",
   "execution_count": 160,
   "id": "d36b0b45",
   "metadata": {},
   "outputs": [
    {
     "name": "stdout",
     "output_type": "stream",
     "text": [
      "20 20 20\n"
     ]
    }
   ],
   "source": [
    "print(len(company_tags),len(job_location),len(experience_required))"
   ]
  },
  {
   "cell_type": "code",
   "execution_count": 161,
   "id": "b3821e9f",
   "metadata": {},
   "outputs": [
    {
     "data": {
      "text/html": [
       "<div>\n",
       "<style scoped>\n",
       "    .dataframe tbody tr th:only-of-type {\n",
       "        vertical-align: middle;\n",
       "    }\n",
       "\n",
       "    .dataframe tbody tr th {\n",
       "        vertical-align: top;\n",
       "    }\n",
       "\n",
       "    .dataframe thead th {\n",
       "        text-align: right;\n",
       "    }\n",
       "</style>\n",
       "<table border=\"1\" class=\"dataframe\">\n",
       "  <thead>\n",
       "    <tr style=\"text-align: right;\">\n",
       "      <th></th>\n",
       "      <th>Location</th>\n",
       "      <th>Company_name</th>\n",
       "      <th>Experience</th>\n",
       "    </tr>\n",
       "  </thead>\n",
       "  <tbody>\n",
       "    <tr>\n",
       "      <th>0</th>\n",
       "      <td>Pune\\n+14</td>\n",
       "      <td>divya interprises</td>\n",
       "      <td>0 to 4 Yrs</td>\n",
       "    </tr>\n",
       "    <tr>\n",
       "      <th>1</th>\n",
       "      <td>Pune\\n+14</td>\n",
       "      <td>divya interprises</td>\n",
       "      <td>0 to 4 Yrs</td>\n",
       "    </tr>\n",
       "    <tr>\n",
       "      <th>2</th>\n",
       "      <td>Pune\\n+14</td>\n",
       "      <td>divya interprises</td>\n",
       "      <td>0 to 4 Yrs</td>\n",
       "    </tr>\n",
       "    <tr>\n",
       "      <th>3</th>\n",
       "      <td>Pune</td>\n",
       "      <td>the fashion cosmo</td>\n",
       "      <td>0 to 3 Yrs</td>\n",
       "    </tr>\n",
       "    <tr>\n",
       "      <th>4</th>\n",
       "      <td>Pune</td>\n",
       "      <td>shiva hr services</td>\n",
       "      <td>0 to 3 Yrs</td>\n",
       "    </tr>\n",
       "    <tr>\n",
       "      <th>5</th>\n",
       "      <td>Pune</td>\n",
       "      <td>bosch group</td>\n",
       "      <td>3 to 5 Yrs</td>\n",
       "    </tr>\n",
       "    <tr>\n",
       "      <th>6</th>\n",
       "      <td>Pune</td>\n",
       "      <td>bosch group</td>\n",
       "      <td>2 to 5 Yrs</td>\n",
       "    </tr>\n",
       "    <tr>\n",
       "      <th>7</th>\n",
       "      <td>Pune\\n+14</td>\n",
       "      <td>divya interprises</td>\n",
       "      <td>0 to 4 Yrs</td>\n",
       "    </tr>\n",
       "    <tr>\n",
       "      <th>8</th>\n",
       "      <td>Pune\\n+14</td>\n",
       "      <td>divya interprises</td>\n",
       "      <td>0 to 4 Yrs</td>\n",
       "    </tr>\n",
       "    <tr>\n",
       "      <th>9</th>\n",
       "      <td>Pune</td>\n",
       "      <td>the fashion cosmo</td>\n",
       "      <td>0 to 3 Yrs</td>\n",
       "    </tr>\n",
       "    <tr>\n",
       "      <th>10</th>\n",
       "      <td>Pune</td>\n",
       "      <td>the fashion cosmo</td>\n",
       "      <td>0 to 3 Yrs</td>\n",
       "    </tr>\n",
       "    <tr>\n",
       "      <th>11</th>\n",
       "      <td>Pune</td>\n",
       "      <td>mastercard</td>\n",
       "      <td>0 to 4 Yrs</td>\n",
       "    </tr>\n",
       "    <tr>\n",
       "      <th>12</th>\n",
       "      <td>Pune</td>\n",
       "      <td>gfl recruitment private limited</td>\n",
       "      <td>0 to 1 Yr</td>\n",
       "    </tr>\n",
       "    <tr>\n",
       "      <th>13</th>\n",
       "      <td>Pune\\n+17</td>\n",
       "      <td>kavya staffing solutions</td>\n",
       "      <td>0 to 4 Yrs</td>\n",
       "    </tr>\n",
       "    <tr>\n",
       "      <th>14</th>\n",
       "      <td>Pune</td>\n",
       "      <td>mastercard</td>\n",
       "      <td>0 to 4 Yrs</td>\n",
       "    </tr>\n",
       "    <tr>\n",
       "      <th>15</th>\n",
       "      <td>Pune\\n+6</td>\n",
       "      <td>quiscon biotech</td>\n",
       "      <td>0 to 1 Yr</td>\n",
       "    </tr>\n",
       "    <tr>\n",
       "      <th>16</th>\n",
       "      <td>Pune</td>\n",
       "      <td>infosys limited</td>\n",
       "      <td>1 to 4 Yrs</td>\n",
       "    </tr>\n",
       "    <tr>\n",
       "      <th>17</th>\n",
       "      <td>Pune</td>\n",
       "      <td>cummins india ltd</td>\n",
       "      <td>0 to 4 Yrs</td>\n",
       "    </tr>\n",
       "    <tr>\n",
       "      <th>18</th>\n",
       "      <td>Pune</td>\n",
       "      <td>gfl recruitment private limited</td>\n",
       "      <td>0 to 1 Yr</td>\n",
       "    </tr>\n",
       "    <tr>\n",
       "      <th>19</th>\n",
       "      <td>Pune</td>\n",
       "      <td>gfl recruitment private limited</td>\n",
       "      <td>0 to 1 Yr</td>\n",
       "    </tr>\n",
       "  </tbody>\n",
       "</table>\n",
       "</div>"
      ],
      "text/plain": [
       "     Location                     Company_name  Experience\n",
       "0   Pune\\n+14                divya interprises  0 to 4 Yrs\n",
       "1   Pune\\n+14                divya interprises  0 to 4 Yrs\n",
       "2   Pune\\n+14                divya interprises  0 to 4 Yrs\n",
       "3        Pune                the fashion cosmo  0 to 3 Yrs\n",
       "4        Pune                shiva hr services  0 to 3 Yrs\n",
       "5        Pune                      bosch group  3 to 5 Yrs\n",
       "6        Pune                      bosch group  2 to 5 Yrs\n",
       "7   Pune\\n+14                divya interprises  0 to 4 Yrs\n",
       "8   Pune\\n+14                divya interprises  0 to 4 Yrs\n",
       "9        Pune                the fashion cosmo  0 to 3 Yrs\n",
       "10       Pune                the fashion cosmo  0 to 3 Yrs\n",
       "11       Pune                       mastercard  0 to 4 Yrs\n",
       "12       Pune  gfl recruitment private limited   0 to 1 Yr\n",
       "13  Pune\\n+17         kavya staffing solutions  0 to 4 Yrs\n",
       "14       Pune                       mastercard  0 to 4 Yrs\n",
       "15   Pune\\n+6                  quiscon biotech   0 to 1 Yr\n",
       "16       Pune                  infosys limited  1 to 4 Yrs\n",
       "17       Pune                cummins india ltd  0 to 4 Yrs\n",
       "18       Pune  gfl recruitment private limited   0 to 1 Yr\n",
       "19       Pune  gfl recruitment private limited   0 to 1 Yr"
      ]
     },
     "execution_count": 161,
     "metadata": {},
     "output_type": "execute_result"
    }
   ],
   "source": [
    "import pandas as pd\n",
    "df=pd.DataFrame({'Location':job_location, 'Company_name':company_name,'Experience':experience_required})\n",
    "df\n"
   ]
  },
  {
   "cell_type": "markdown",
   "id": "b137d996",
   "metadata": {},
   "source": [
    "Question-4"
   ]
  },
  {
   "cell_type": "code",
   "execution_count": 189,
   "id": "6ad9a38a",
   "metadata": {},
   "outputs": [],
   "source": [
    "driver = webdriver.Chrome()"
   ]
  },
  {
   "cell_type": "code",
   "execution_count": 190,
   "id": "1a697b07",
   "metadata": {},
   "outputs": [],
   "source": [
    "driver.get(\"https://www.flipkart.com/\")"
   ]
  },
  {
   "cell_type": "code",
   "execution_count": 191,
   "id": "460105bc",
   "metadata": {},
   "outputs": [],
   "source": [
    "designation=driver.find_element(By.CLASS_NAME,\"Pke_EE\")\n",
    "designation.send_keys(\"Sunglasses\")"
   ]
  },
  {
   "cell_type": "code",
   "execution_count": 192,
   "id": "06af6eac",
   "metadata": {},
   "outputs": [],
   "source": [
    "search=driver.find_element(By.XPATH,'/html/body/div[1]/div/div[1]/div/div/div/div/div[1]/div/div[1]/div/div[1]/header/div[1]/div[2]/form/div/button')\n",
    "search.click()"
   ]
  },
  {
   "cell_type": "code",
   "execution_count": 197,
   "id": "d9290ad1",
   "metadata": {},
   "outputs": [],
   "source": [
    "search_brand=driver.find_element(By.XPATH,'/html/body/div/div/div[3]/div[1]/div[1]/div[2]/div[1]/div/section[5]/div[2]/div[1]/div[1]/input')\n",
    "search_brand.click()"
   ]
  },
  {
   "cell_type": "code",
   "execution_count": 198,
   "id": "62b49ae2",
   "metadata": {},
   "outputs": [],
   "source": [
    "price_minimum=driver.find_element(By.XPATH,'/html/body/div/div/div[3]/div/div[1]/div[2]/div[1]/div/section[3]/div[4]/div[1]/select')\n",
    "price_minimum.click()"
   ]
  },
  {
   "cell_type": "code",
   "execution_count": 199,
   "id": "ef69ba30",
   "metadata": {},
   "outputs": [],
   "source": [
    "price_maximum=driver.find_element(By.XPATH,'/html/body/div/div/div[3]/div/div[1]/div[2]/div[1]/div/section[3]/div[4]/div[3]/select')\n",
    "price_maximum.click()"
   ]
  },
  {
   "cell_type": "code",
   "execution_count": 200,
   "id": "b9a3020e",
   "metadata": {},
   "outputs": [],
   "source": [
    "B_name=[]\n",
    "Price=[]"
   ]
  },
  {
   "cell_type": "code",
   "execution_count": 203,
   "id": "0c7fca53",
   "metadata": {},
   "outputs": [],
   "source": [
    "for i in range(3):\n",
    "    b_name=driver.find_elements(By.XPATH,\"//div[@class='_2WkVRV']\")\n",
    "    price=driver.find_elements(By.XPATH,\"//div[@class='_25b18c']\")\n",
    "    \n",
    " \n",
    "    for j  in b_name:\n",
    "        B_name.append(j.text)\n",
    "    B_name[:100]    \n",
    "    \n",
    "    \n",
    "    \n",
    "    for l in price:\n",
    "        Price.append(l.text)\n",
    "    Price[:100] "
   ]
  },
  {
   "cell_type": "code",
   "execution_count": 202,
   "id": "278aa713",
   "metadata": {},
   "outputs": [
    {
     "data": {
      "text/plain": [
       "['Fastrack',\n",
       " 'Nicole Miller',\n",
       " 'Fastrack',\n",
       " 'SRPM',\n",
       " 'GANSTA',\n",
       " 'ROADWAY',\n",
       " 'ROADWAY',\n",
       " 'VINCENT CHASE',\n",
       " 'Elligator',\n",
       " 'Roadster',\n",
       " 'Fastrack',\n",
       " 'ROYAL SON',\n",
       " 'Rich Club',\n",
       " 'Roadster',\n",
       " 'ROYAL SON',\n",
       " 'ROZZETTA CRAFT',\n",
       " 'Fastrack',\n",
       " 'VINCENT CHASE',\n",
       " 'METRONAUT',\n",
       " 'Roadster',\n",
       " 'john jacobs',\n",
       " 'VINCENT CHASE',\n",
       " 'Elligator',\n",
       " 'ROADWAY',\n",
       " 'PIRASO',\n",
       " 'ROADWAY',\n",
       " 'Fastrack',\n",
       " 'Fastrack',\n",
       " 'iCopertina',\n",
       " 'Rich Club',\n",
       " 'ROYAL SON',\n",
       " 'Fastrack',\n",
       " 'ROZZETTA CRAFT',\n",
       " 'iCopertina',\n",
       " 'PIRASO',\n",
       " 'Rich Club',\n",
       " 'ROYAL SON',\n",
       " 'VINCENT CHASE',\n",
       " 'DEIXELS',\n",
       " 'Elligator']"
      ]
     },
     "execution_count": 202,
     "metadata": {},
     "output_type": "execute_result"
    }
   ],
   "source": [
    "B_name[:100]"
   ]
  },
  {
   "cell_type": "code",
   "execution_count": 204,
   "id": "8d498bdc",
   "metadata": {},
   "outputs": [
    {
     "name": "stdout",
     "output_type": "stream",
     "text": [
      "100\n",
      "100\n"
     ]
    },
    {
     "data": {
      "text/plain": [
       "(None, None)"
      ]
     },
     "execution_count": 204,
     "metadata": {},
     "output_type": "execute_result"
    }
   ],
   "source": [
    "print(len(B_name[:100])),print(len(Price[:100]))"
   ]
  },
  {
   "cell_type": "code",
   "execution_count": 205,
   "id": "25835700",
   "metadata": {},
   "outputs": [],
   "source": [
    "sun_gl=pd.DataFrame({})\n",
    "sun_gl['Brand_name']=B_name[:100]\n",
    "sun_gl['P_price']=Price[:100]"
   ]
  },
  {
   "cell_type": "code",
   "execution_count": 206,
   "id": "4382c129",
   "metadata": {},
   "outputs": [
    {
     "data": {
      "text/html": [
       "<div>\n",
       "<style scoped>\n",
       "    .dataframe tbody tr th:only-of-type {\n",
       "        vertical-align: middle;\n",
       "    }\n",
       "\n",
       "    .dataframe tbody tr th {\n",
       "        vertical-align: top;\n",
       "    }\n",
       "\n",
       "    .dataframe thead th {\n",
       "        text-align: right;\n",
       "    }\n",
       "</style>\n",
       "<table border=\"1\" class=\"dataframe\">\n",
       "  <thead>\n",
       "    <tr style=\"text-align: right;\">\n",
       "      <th></th>\n",
       "      <th>Brand_name</th>\n",
       "      <th>P_price</th>\n",
       "    </tr>\n",
       "  </thead>\n",
       "  <tbody>\n",
       "    <tr>\n",
       "      <th>0</th>\n",
       "      <td>Fastrack</td>\n",
       "      <td>₹449₹89950% off</td>\n",
       "    </tr>\n",
       "    <tr>\n",
       "      <th>1</th>\n",
       "      <td>Nicole Miller</td>\n",
       "      <td>₹2,499₹9,99975% off</td>\n",
       "    </tr>\n",
       "    <tr>\n",
       "      <th>2</th>\n",
       "      <td>Fastrack</td>\n",
       "      <td>₹549₹1,09950% off</td>\n",
       "    </tr>\n",
       "    <tr>\n",
       "      <th>3</th>\n",
       "      <td>SRPM</td>\n",
       "      <td>₹149₹1,29988% off</td>\n",
       "    </tr>\n",
       "    <tr>\n",
       "      <th>4</th>\n",
       "      <td>GANSTA</td>\n",
       "      <td>₹79₹1,29993% off</td>\n",
       "    </tr>\n",
       "    <tr>\n",
       "      <th>...</th>\n",
       "      <td>...</td>\n",
       "      <td>...</td>\n",
       "    </tr>\n",
       "    <tr>\n",
       "      <th>95</th>\n",
       "      <td>ROZZETTA CRAFT</td>\n",
       "      <td>₹199₹1,29984% off</td>\n",
       "    </tr>\n",
       "    <tr>\n",
       "      <th>96</th>\n",
       "      <td>Fastrack</td>\n",
       "      <td>₹254₹99974% off</td>\n",
       "    </tr>\n",
       "    <tr>\n",
       "      <th>97</th>\n",
       "      <td>VINCENT CHASE</td>\n",
       "      <td>₹799₹1,99960% off</td>\n",
       "    </tr>\n",
       "    <tr>\n",
       "      <th>98</th>\n",
       "      <td>METRONAUT</td>\n",
       "      <td>₹149₹59975% off</td>\n",
       "    </tr>\n",
       "    <tr>\n",
       "      <th>99</th>\n",
       "      <td>Roadster</td>\n",
       "      <td>₹199₹94979% off</td>\n",
       "    </tr>\n",
       "  </tbody>\n",
       "</table>\n",
       "<p>100 rows × 2 columns</p>\n",
       "</div>"
      ],
      "text/plain": [
       "        Brand_name              P_price\n",
       "0         Fastrack      ₹449₹89950% off\n",
       "1    Nicole Miller  ₹2,499₹9,99975% off\n",
       "2         Fastrack    ₹549₹1,09950% off\n",
       "3             SRPM    ₹149₹1,29988% off\n",
       "4           GANSTA     ₹79₹1,29993% off\n",
       "..             ...                  ...\n",
       "95  ROZZETTA CRAFT    ₹199₹1,29984% off\n",
       "96        Fastrack      ₹254₹99974% off\n",
       "97   VINCENT CHASE    ₹799₹1,99960% off\n",
       "98       METRONAUT      ₹149₹59975% off\n",
       "99        Roadster      ₹199₹94979% off\n",
       "\n",
       "[100 rows x 2 columns]"
      ]
     },
     "execution_count": 206,
     "metadata": {},
     "output_type": "execute_result"
    }
   ],
   "source": [
    "sun_gl"
   ]
  },
  {
   "cell_type": "markdown",
   "id": "aa8937c5",
   "metadata": {},
   "source": [
    "Question-6"
   ]
  },
  {
   "cell_type": "code",
   "execution_count": 207,
   "id": "c583fe80",
   "metadata": {},
   "outputs": [],
   "source": [
    "driver = webdriver.Chrome()"
   ]
  },
  {
   "cell_type": "code",
   "execution_count": 208,
   "id": "331e51b2",
   "metadata": {},
   "outputs": [],
   "source": [
    "driver.get(\"https://www.flipkart.com/\")"
   ]
  },
  {
   "cell_type": "code",
   "execution_count": 209,
   "id": "990a6b5a",
   "metadata": {},
   "outputs": [],
   "source": [
    "designation=driver.find_element(By.CLASS_NAME,\"Pke_EE\")\n",
    "designation.send_keys(\"Sneakers\")"
   ]
  },
  {
   "cell_type": "code",
   "execution_count": 210,
   "id": "721691bf",
   "metadata": {},
   "outputs": [],
   "source": [
    "search=driver.find_element(By.XPATH,'/html/body/div[1]/div/div[1]/div/div/div/div/div[1]/div/div[1]/div/div[1]/header/div[1]/div[2]/form/div/button')\n",
    "search.click()"
   ]
  },
  {
   "cell_type": "code",
   "execution_count": 221,
   "id": "b550dd77",
   "metadata": {},
   "outputs": [],
   "source": [
    "B_name=[]\n",
    "Price=[]\n",
    "P_desc=[]"
   ]
  },
  {
   "cell_type": "code",
   "execution_count": 223,
   "id": "2715fdb6",
   "metadata": {},
   "outputs": [],
   "source": [
    "for i in range(3):\n",
    "    b_name=driver.find_elements(By.XPATH,\"//div[@class='_1Y4Vhm _4FO7b6']\")\n",
    "    p_desc=driver.find_elements(By.XPATH,\"//div[@class='_1xHGtK _373qXS']\")\n",
    "    price =driver.find_elements(By.XPATH,\"//a[@class='_3bPFwb']\")\n",
    "    \n",
    "    for j  in b_name:\n",
    "        B_name.append(j.text)\n",
    "    B_name[:100]    \n",
    "    \n",
    "    \n",
    "    \n",
    "    for k in p_desc:\n",
    "        P_desc.append(k.text)\n",
    "    P_desc[:100] \n",
    "    \n",
    "    \n",
    "    for l in price:\n",
    "        Price.append(l.text)\n",
    "    Price[:100] "
   ]
  },
  {
   "cell_type": "code",
   "execution_count": 224,
   "id": "73d6d6e6",
   "metadata": {},
   "outputs": [
    {
     "name": "stdout",
     "output_type": "stream",
     "text": [
      "100\n",
      "100\n",
      "100\n"
     ]
    },
    {
     "data": {
      "text/plain": [
       "(None, None, None)"
      ]
     },
     "execution_count": 224,
     "metadata": {},
     "output_type": "execute_result"
    }
   ],
   "source": [
    "print(len(B_name[:100])),print(len(Price[:100])),print(len(P_desc[:100]))"
   ]
  },
  {
   "cell_type": "code",
   "execution_count": 225,
   "id": "9bfade56",
   "metadata": {},
   "outputs": [],
   "source": [
    "sun_gl=pd.DataFrame({})\n",
    "sun_gl['Brand_name']=B_name[:100]\n",
    "sun_gl['P_price']=Price[:100]\n",
    "sun_gl['Pr_desc']=P_desc[:100]"
   ]
  },
  {
   "cell_type": "code",
   "execution_count": 226,
   "id": "a2d41a4e",
   "metadata": {},
   "outputs": [
    {
     "data": {
      "text/html": [
       "<div>\n",
       "<style scoped>\n",
       "    .dataframe tbody tr th:only-of-type {\n",
       "        vertical-align: middle;\n",
       "    }\n",
       "\n",
       "    .dataframe tbody tr th {\n",
       "        vertical-align: top;\n",
       "    }\n",
       "\n",
       "    .dataframe thead th {\n",
       "        text-align: right;\n",
       "    }\n",
       "</style>\n",
       "<table border=\"1\" class=\"dataframe\">\n",
       "  <thead>\n",
       "    <tr style=\"text-align: right;\">\n",
       "      <th></th>\n",
       "      <th>Brand_name</th>\n",
       "      <th>P_price</th>\n",
       "      <th>Pr_desc</th>\n",
       "    </tr>\n",
       "  </thead>\n",
       "  <tbody>\n",
       "    <tr>\n",
       "      <th>0</th>\n",
       "      <td>PUMA</td>\n",
       "      <td>₹497₹2,49980% off</td>\n",
       "      <td>Sponsored\\nBRUTON\\nCombo Pack Of 2 Casual Shoe...</td>\n",
       "    </tr>\n",
       "    <tr>\n",
       "      <th>1</th>\n",
       "      <td>ADIDAS</td>\n",
       "      <td>₹497₹2,49980% off</td>\n",
       "      <td>Sponsored\\nBRUTON\\nCombo Pack Of 2 Casual Shoe...</td>\n",
       "    </tr>\n",
       "    <tr>\n",
       "      <th>2</th>\n",
       "      <td>NIKE</td>\n",
       "      <td>₹299₹99970% off</td>\n",
       "      <td>Bestseller\\nURBANBOX\\nTrending Stylish Casual ...</td>\n",
       "    </tr>\n",
       "    <tr>\n",
       "      <th>3</th>\n",
       "      <td>CAMPUS</td>\n",
       "      <td>₹296₹99970% off\\nFree delivery</td>\n",
       "      <td>Bestseller\\nLayasa\\nSneakers For Men\\n₹296₹999...</td>\n",
       "    </tr>\n",
       "    <tr>\n",
       "      <th>4</th>\n",
       "      <td>Skechers</td>\n",
       "      <td>₹1,934₹4,49957% off</td>\n",
       "      <td>PUMA\\nImpel Sneakers For Men\\n₹1,934₹4,49957% ...</td>\n",
       "    </tr>\n",
       "    <tr>\n",
       "      <th>...</th>\n",
       "      <td>...</td>\n",
       "      <td>...</td>\n",
       "      <td>...</td>\n",
       "    </tr>\n",
       "    <tr>\n",
       "      <th>95</th>\n",
       "      <td>Arivo</td>\n",
       "      <td>₹1,429₹2,99952% off</td>\n",
       "      <td>Bestseller\\nPUMA\\nHustle V2 Sneakers For Men\\n...</td>\n",
       "    </tr>\n",
       "    <tr>\n",
       "      <th>96</th>\n",
       "      <td>ARIWA</td>\n",
       "      <td>₹497₹2,49980% off\\nFree delivery</td>\n",
       "      <td>PUMA\\nBuzz Sneakers For Men\\n₹1,298₹4,49971% o...</td>\n",
       "    </tr>\n",
       "    <tr>\n",
       "      <th>97</th>\n",
       "      <td>ARMADO</td>\n",
       "      <td>₹497₹2,49980% off\\nFree delivery</td>\n",
       "      <td>Sponsored\\nRAVDI\\nSneakers For Men\\n₹549₹2,999...</td>\n",
       "    </tr>\n",
       "    <tr>\n",
       "      <th>98</th>\n",
       "      <td>AROOM</td>\n",
       "      <td>₹1,198₹3,99970% off\\nFree delivery</td>\n",
       "      <td>Sponsored\\nSOLETHREADS REBEL\\nSneakers For Men...</td>\n",
       "    </tr>\n",
       "    <tr>\n",
       "      <th>99</th>\n",
       "      <td>ARTHFOG</td>\n",
       "      <td>₹1,298₹4,49971% off\\nFree delivery</td>\n",
       "      <td>Deals4you\\nSneakers For Women\\n₹409₹99959% off...</td>\n",
       "    </tr>\n",
       "  </tbody>\n",
       "</table>\n",
       "<p>100 rows × 3 columns</p>\n",
       "</div>"
      ],
      "text/plain": [
       "   Brand_name                             P_price  \\\n",
       "0        PUMA                   ₹497₹2,49980% off   \n",
       "1      ADIDAS                   ₹497₹2,49980% off   \n",
       "2        NIKE                     ₹299₹99970% off   \n",
       "3      CAMPUS      ₹296₹99970% off\\nFree delivery   \n",
       "4    Skechers                 ₹1,934₹4,49957% off   \n",
       "..        ...                                 ...   \n",
       "95      Arivo                 ₹1,429₹2,99952% off   \n",
       "96      ARIWA    ₹497₹2,49980% off\\nFree delivery   \n",
       "97     ARMADO    ₹497₹2,49980% off\\nFree delivery   \n",
       "98      AROOM  ₹1,198₹3,99970% off\\nFree delivery   \n",
       "99    ARTHFOG  ₹1,298₹4,49971% off\\nFree delivery   \n",
       "\n",
       "                                              Pr_desc  \n",
       "0   Sponsored\\nBRUTON\\nCombo Pack Of 2 Casual Shoe...  \n",
       "1   Sponsored\\nBRUTON\\nCombo Pack Of 2 Casual Shoe...  \n",
       "2   Bestseller\\nURBANBOX\\nTrending Stylish Casual ...  \n",
       "3   Bestseller\\nLayasa\\nSneakers For Men\\n₹296₹999...  \n",
       "4   PUMA\\nImpel Sneakers For Men\\n₹1,934₹4,49957% ...  \n",
       "..                                                ...  \n",
       "95  Bestseller\\nPUMA\\nHustle V2 Sneakers For Men\\n...  \n",
       "96  PUMA\\nBuzz Sneakers For Men\\n₹1,298₹4,49971% o...  \n",
       "97  Sponsored\\nRAVDI\\nSneakers For Men\\n₹549₹2,999...  \n",
       "98  Sponsored\\nSOLETHREADS REBEL\\nSneakers For Men...  \n",
       "99  Deals4you\\nSneakers For Women\\n₹409₹99959% off...  \n",
       "\n",
       "[100 rows x 3 columns]"
      ]
     },
     "execution_count": 226,
     "metadata": {},
     "output_type": "execute_result"
    }
   ],
   "source": [
    "sun_gl"
   ]
  },
  {
   "cell_type": "markdown",
   "id": "df50b172",
   "metadata": {},
   "source": [
    "Question-7"
   ]
  },
  {
   "cell_type": "code",
   "execution_count": 240,
   "id": "840a0e38",
   "metadata": {},
   "outputs": [],
   "source": [
    "driver = webdriver.Chrome()"
   ]
  },
  {
   "cell_type": "code",
   "execution_count": 241,
   "id": "5fb1e686",
   "metadata": {},
   "outputs": [],
   "source": [
    "driver.get(\"http://www.amazon.in/\")"
   ]
  },
  {
   "cell_type": "code",
   "execution_count": 242,
   "id": "25793af0",
   "metadata": {},
   "outputs": [],
   "source": [
    "designation=driver.find_element(By.XPATH,\"/html/body/div[1]/header/div/div[1]/div[2]/div/form/div[2]/div[1]/input\")\n",
    "designation.send_keys(\"Laptop\")"
   ]
  },
  {
   "cell_type": "code",
   "execution_count": 243,
   "id": "85bf9048",
   "metadata": {},
   "outputs": [],
   "source": [
    "search=driver.find_element(By.XPATH,\"/html/body/div[1]/header/div/div[1]/div[2]/div/form/div[3]/div/span/input\")\n",
    "search.click()"
   ]
  },
  {
   "cell_type": "code",
   "execution_count": 244,
   "id": "95eaf842",
   "metadata": {},
   "outputs": [],
   "source": [
    "search_processor=driver.find_element(By.XPATH,\"/html/body/div[1]/div[1]/div[1]/div[2]/div/div[3]/span/div[1]/div/div/div[5]/ul[6]/span[12]/li/span/a\")\n",
    "search_processor.click()"
   ]
  },
  {
   "cell_type": "code",
   "execution_count": 245,
   "id": "331c00cc",
   "metadata": {},
   "outputs": [],
   "source": [
    "Title=[]\n",
    "Price=[]\n",
    "Rating=[]"
   ]
  },
  {
   "cell_type": "code",
   "execution_count": 251,
   "id": "c1f1cb2f",
   "metadata": {},
   "outputs": [],
   "source": [
    "for i in range(3):\n",
    "    b_name=driver.find_elements(By.XPATH,\"//div[@class='_2WkVRV']\")\n",
    "    rating=driver.find_elements(By.XPATH,\"//a[@class='IRpwTa']\")\n",
    "    price =driver.find_elements(By.XPATH,\"//div[@class='_25b18c']\")\n",
    "    \n",
    "    \n",
    "    for j  in b_name:\n",
    "        Title.append(j.text)\n",
    "    Title[:100]    \n",
    "    \n",
    "    \n",
    "    \n",
    "    for k in p_desc:\n",
    "        P_desc.append(k.text)\n",
    "    P_desc[:100] \n",
    "    \n",
    "    \n",
    "    for l in price:\n",
    "        Price.append(l.text)\n",
    "    Price[:100] "
   ]
  },
  {
   "cell_type": "code",
   "execution_count": 252,
   "id": "d2a637a7",
   "metadata": {},
   "outputs": [
    {
     "name": "stdout",
     "output_type": "stream",
     "text": [
      "100\n",
      "0\n",
      "100\n"
     ]
    },
    {
     "data": {
      "text/plain": [
       "(None, None, None)"
      ]
     },
     "execution_count": 252,
     "metadata": {},
     "output_type": "execute_result"
    }
   ],
   "source": [
    "print(len(B_name[:100])),print(len(Price[:100])),print(len(P_desc[:100]))"
   ]
  },
  {
   "cell_type": "markdown",
   "id": "b85f0f66",
   "metadata": {},
   "source": [
    "Question-9"
   ]
  },
  {
   "cell_type": "code",
   "execution_count": 255,
   "id": "ed397101",
   "metadata": {},
   "outputs": [],
   "source": [
    "driver = webdriver.Chrome()"
   ]
  },
  {
   "cell_type": "code",
   "execution_count": 256,
   "id": "8c2693ec",
   "metadata": {},
   "outputs": [],
   "source": [
    "driver.get(\"http://www.jagranjosh.com/\")"
   ]
  },
  {
   "cell_type": "code",
   "execution_count": 263,
   "id": "db65766a",
   "metadata": {},
   "outputs": [],
   "source": [
    "search=driver.find_element(By.XPATH,\"/html/body/div[1]/header/nav/div/div/div[3]/ul/li[6]/a\")\n",
    "search.click()"
   ]
  },
  {
   "cell_type": "code",
   "execution_count": 268,
   "id": "527f6348",
   "metadata": {},
   "outputs": [],
   "source": [
    "search_pm=driver.find_element(By.XPATH,\"/html/body/div[2]/div/div/div[2]/div/div[10]/div/div/ul/li[2]/a\")\n",
    "search_pm.click()"
   ]
  },
  {
   "cell_type": "markdown",
   "id": "e27ad193",
   "metadata": {},
   "source": [
    "Question-10"
   ]
  },
  {
   "cell_type": "code",
   "execution_count": 270,
   "id": "9d809768",
   "metadata": {},
   "outputs": [],
   "source": [
    "driver = webdriver.Chrome()"
   ]
  },
  {
   "cell_type": "code",
   "execution_count": 275,
   "id": "b6fda8eb",
   "metadata": {},
   "outputs": [],
   "source": [
    "driver.get(\"https://www.motor1.com/\")"
   ]
  },
  {
   "cell_type": "code",
   "execution_count": 282,
   "id": "9ae8e2ec",
   "metadata": {},
   "outputs": [],
   "source": [
    "designation=driver.find_element(By.XPATH,\"/html/body/div[10]/div[2]/div/div/div[3]/div/div/div/form/input\")\n",
    "designation.send_keys(\"50 most expensive cars\")"
   ]
  },
  {
   "cell_type": "code",
   "execution_count": 284,
   "id": "99d8031b",
   "metadata": {},
   "outputs": [],
   "source": [
    "search=driver.find_element(By.XPATH,\"/html/body/div[10]/div[2]/div/div/div[3]/div/div/div/form/button[1]\")\n",
    "search.click()"
   ]
  },
  {
   "cell_type": "code",
   "execution_count": 286,
   "id": "dcf7cbd3",
   "metadata": {},
   "outputs": [],
   "source": [
    "car_names = driver.find_elements(By.XPATH,'//div[@class=\"article-content\"]/h3')\n",
    "car_prices = driver.find_elements(By.XPATH,'//div[@class=\"article-content\"]/p')"
   ]
  },
  {
   "cell_type": "code",
   "execution_count": 287,
   "id": "4d4ebfee",
   "metadata": {},
   "outputs": [],
   "source": [
    "data = []\n",
    "for name, price in zip(car_names, car_prices):\n",
    "  data.append([name.text, price.text])"
   ]
  },
  {
   "cell_type": "code",
   "execution_count": 288,
   "id": "eaf366d6",
   "metadata": {},
   "outputs": [
    {
     "name": "stdout",
     "output_type": "stream",
     "text": [
      "Empty DataFrame\n",
      "Columns: [Car Name, Price]\n",
      "Index: []\n"
     ]
    }
   ],
   "source": [
    "df = pd.DataFrame(data, columns=['Car Name', 'Price'])\n",
    "print(df)"
   ]
  },
  {
   "cell_type": "code",
   "execution_count": null,
   "id": "a910053e",
   "metadata": {},
   "outputs": [],
   "source": []
  }
 ],
 "metadata": {
  "kernelspec": {
   "display_name": "Python 3 (ipykernel)",
   "language": "python",
   "name": "python3"
  },
  "language_info": {
   "codemirror_mode": {
    "name": "ipython",
    "version": 3
   },
   "file_extension": ".py",
   "mimetype": "text/x-python",
   "name": "python",
   "nbconvert_exporter": "python",
   "pygments_lexer": "ipython3",
   "version": "3.10.9"
  }
 },
 "nbformat": 4,
 "nbformat_minor": 5
}
