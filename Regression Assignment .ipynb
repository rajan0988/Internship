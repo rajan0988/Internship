{
 "cells": [
  {
   "cell_type": "markdown",
   "id": "ecb00862",
   "metadata": {},
   "source": [
    "Question-1"
   ]
  },
  {
   "cell_type": "code",
   "execution_count": 1,
   "id": "d9687aef",
   "metadata": {},
   "outputs": [],
   "source": [
    "import re"
   ]
  },
  {
   "cell_type": "code",
   "execution_count": 2,
   "id": "ae7346f8",
   "metadata": {},
   "outputs": [],
   "source": [
    "text = \"Python Exercises, PHP exercises.\""
   ]
  },
  {
   "cell_type": "code",
   "execution_count": 3,
   "id": "105e661f",
   "metadata": {},
   "outputs": [
    {
     "name": "stdout",
     "output_type": "stream",
     "text": [
      "Python:Exercises::PHP:exercises:\n"
     ]
    }
   ],
   "source": [
    "print(re.sub(\"[ ,. ]\", \":\", text))"
   ]
  },
  {
   "cell_type": "markdown",
   "id": "f29ec76c",
   "metadata": {},
   "source": [
    "Question-2"
   ]
  },
  {
   "cell_type": "code",
   "execution_count": 4,
   "id": "47f6624a",
   "metadata": {},
   "outputs": [],
   "source": [
    "import re"
   ]
  },
  {
   "cell_type": "code",
   "execution_count": 9,
   "id": "344bf0de",
   "metadata": {},
   "outputs": [],
   "source": [
    "text1= \"welcome to python programming\""
   ]
  },
  {
   "cell_type": "code",
   "execution_count": 10,
   "id": "b1ffa379",
   "metadata": {},
   "outputs": [],
   "source": [
    "list = re.findall(\"[ae]\\w+\", text1)"
   ]
  },
  {
   "cell_type": "code",
   "execution_count": 11,
   "id": "3d387a80",
   "metadata": {},
   "outputs": [
    {
     "name": "stdout",
     "output_type": "stream",
     "text": [
      "['elcome', 'amming']\n"
     ]
    }
   ],
   "source": [
    "print(list)"
   ]
  },
  {
   "cell_type": "markdown",
   "id": "cd276bb5",
   "metadata": {},
   "source": [
    "Question-3"
   ]
  },
  {
   "cell_type": "code",
   "execution_count": 21,
   "id": "c6bbd814",
   "metadata": {},
   "outputs": [],
   "source": [
    "import re"
   ]
  },
  {
   "cell_type": "code",
   "execution_count": 22,
   "id": "3aa957c3",
   "metadata": {},
   "outputs": [
    {
     "name": "stdout",
     "output_type": "stream",
     "text": [
      "<class 're.Pattern'> \n",
      "\n",
      "['Hell', 'worl', 'welc', 'pyth', 'prog', 'ramm', 'whic', 'used', 'deve', 'vari', 'othe', 'prog', 'rams']\n"
     ]
    }
   ],
   "source": [
    "str1 = \"Hello world and welcome to the python programming which is used to develop an app and various other programs.\"\n",
    "\n",
    "#pattern to find four characters in a string.\n",
    "string_pattern = r\"\\w{4}\"\n",
    "regex_pattern = re.compile(string_pattern)\n",
    "\n",
    "print(type(regex_pattern), \"\\n\")\n",
    "\n",
    "#find all matches in the string one\n",
    "result = regex_pattern.findall(str1)\n",
    "print(result)"
   ]
  },
  {
   "cell_type": "markdown",
   "id": "e461e673",
   "metadata": {},
   "source": [
    "Question-4"
   ]
  },
  {
   "cell_type": "code",
   "execution_count": 25,
   "id": "877f4419",
   "metadata": {},
   "outputs": [
    {
     "name": "stdout",
     "output_type": "stream",
     "text": [
      "<class 're.Pattern'> \n",
      "\n",
      "['Hello', 'world', 'and', 'welco', 'the', 'pytho', 'progr', 'ammin', 'which', 'used', 'devel', 'app', 'and', 'vario', 'other', 'progr', 'ams']\n"
     ]
    }
   ],
   "source": [
    "str1 = \"Hello world and welcome to the python programming which is used to develop an app and various other programs.\"\n",
    "\n",
    "#pattern to find four characters in a string.\n",
    "string_pattern = r\"\\w{3,5}\"\n",
    "regex_pattern = re.compile(string_pattern)\n",
    "\n",
    "print(type(regex_pattern), \"\\n\")\n",
    "\n",
    "#find all matches in the string one\n",
    "result = regex_pattern.findall(str1)\n",
    "print(result)"
   ]
  },
  {
   "cell_type": "markdown",
   "id": "99257c81",
   "metadata": {},
   "source": [
    "Question-5"
   ]
  },
  {
   "cell_type": "code",
   "execution_count": null,
   "id": "e5a29b1c",
   "metadata": {},
   "outputs": [],
   "source": []
  },
  {
   "cell_type": "markdown",
   "id": "42f710ed",
   "metadata": {},
   "source": [
    "Question-6"
   ]
  },
  {
   "cell_type": "code",
   "execution_count": 41,
   "id": "972274a5",
   "metadata": {},
   "outputs": [
    {
     "name": "stdout",
     "output_type": "stream",
     "text": [
      "example\n",
      "hr@fliprobo\n",
      "github\n",
      "Hello\n",
      "Data\n"
     ]
    }
   ],
   "source": [
    "import re\n",
    "items = [\"example (.com)\", \"hr@fliprobo (.com)\", \"github (.com)\", \"Hello (Data Science World)\", \"Data (Scientist)\"]\n",
    "for item in items:\n",
    "    print(re.sub(r\" ?\\([^)]+\\)\", \"\", item))"
   ]
  },
  {
   "cell_type": "markdown",
   "id": "fc698947",
   "metadata": {},
   "source": [
    "Question-7"
   ]
  },
  {
   "cell_type": "code",
   "execution_count": 62,
   "id": "397ca6e1",
   "metadata": {},
   "outputs": [
    {
     "name": "stdout",
     "output_type": "stream",
     "text": [
      "['Importance', 'Of', 'Regular', 'Expressions', 'In', 'Python']\n"
     ]
    }
   ],
   "source": [
    "import re\n",
    "text = \"ImportanceOfRegularExpressionsInPython\"\n",
    "print(re.findall('[A-Z][^A-Z]*', text))"
   ]
  },
  {
   "cell_type": "markdown",
   "id": "ce1ab8df",
   "metadata": {},
   "source": [
    "Question-8"
   ]
  },
  {
   "cell_type": "code",
   "execution_count": 67,
   "id": "6db7ba3c",
   "metadata": {},
   "outputs": [
    {
     "name": "stdout",
     "output_type": "stream",
     "text": [
      "RegularExpression1 IsAn2 ImportantTopic3 InPython\n"
     ]
    }
   ],
   "source": [
    "import re\n",
    "\n",
    "def insert_spaces(text):\n",
    "  # Use regular expression to insert speaces between words starting with numbers\n",
    "  pattern = r'(\\d+)([A-Za-z]+)'\n",
    "  result = re.sub(pattern, r'\\1 \\2', text)\n",
    "  return result\n",
    "text = \"RegularExpression1IsAn2ImportantTopic3InPython\"\n",
    "output = insert_spaces(text)\n",
    "print(output)"
   ]
  },
  {
   "cell_type": "markdown",
   "id": "24f1cfbe",
   "metadata": {},
   "source": [
    "Question-9"
   ]
  },
  {
   "cell_type": "code",
   "execution_count": 82,
   "id": "3d5c0e17",
   "metadata": {},
   "outputs": [
    {
     "name": "stdout",
     "output_type": "stream",
     "text": [
      "Regular Expression1 Is An2 Important Topic3 In Python\n"
     ]
    }
   ],
   "source": [
    "import re\n",
    "\n",
    "def insert_spaces(text):\n",
    "  # Use regular expression to insert spaces between words starting with capital letters or numbers\n",
    "  pattern = r'([A-Z][a-z0-9]+|\\d+)'\n",
    "  # Replace the matched words with a space followed by the word\n",
    "  result = re.sub(pattern, r' \\1', text)\n",
    "  # Remove any leading or trailing spaces\n",
    "  result = result.strip()\n",
    "  return result\n",
    "sample_text = \"RegularExpression1IsAn2ImportantTopic3InPython\"\n",
    "output = insert_spaces(sample_text)\n",
    "print(output)"
   ]
  },
  {
   "cell_type": "markdown",
   "id": "85051d81",
   "metadata": {},
   "source": [
    "Question-10"
   ]
  },
  {
   "cell_type": "code",
   "execution_count": 71,
   "id": "3ee088a6",
   "metadata": {},
   "outputs": [
    {
     "name": "stdout",
     "output_type": "stream",
     "text": [
      "['xyz@domain.com', 'xyz.abc@sdomain.domain.com']\n",
      "['hr@fliprobo.com']\n"
     ]
    }
   ],
   "source": [
    "with open(\"C:/Users/a/Documents/Python Scripts/text file.txt\") as file:\n",
    "    for line in file:\n",
    "        pattern= '[a-zA-Z-0-9._%+-]+@[a-zA-Z0-9.-]+\\.[a-zA-Z]{2,}'\n",
    "        urls= re.findall(pattern,line)\n",
    "        print(urls)\n",
    "    "
   ]
  },
  {
   "cell_type": "markdown",
   "id": "5e36ee44",
   "metadata": {},
   "source": [
    "Question-11"
   ]
  },
  {
   "cell_type": "code",
   "execution_count": null,
   "id": "78c5bec8",
   "metadata": {},
   "outputs": [],
   "source": []
  },
  {
   "cell_type": "markdown",
   "id": "28912976",
   "metadata": {},
   "source": [
    "Question-12"
   ]
  },
  {
   "cell_type": "code",
   "execution_count": 74,
   "id": "8a81d2de",
   "metadata": {},
   "outputs": [
    {
     "name": "stdout",
     "output_type": "stream",
     "text": [
      "['1']\n"
     ]
    }
   ],
   "source": [
    "import re\n",
    "str1 = \"1 assignment of regular expression\"\n",
    "x= re.findall('\\d', str1)\n",
    "print(x)"
   ]
  },
  {
   "cell_type": "markdown",
   "id": "3013ae07",
   "metadata": {},
   "source": [
    "Question-13"
   ]
  },
  {
   "cell_type": "code",
   "execution_count": 78,
   "id": "011fff0e",
   "metadata": {},
   "outputs": [
    {
     "name": "stdout",
     "output_type": "stream",
     "text": [
      "255.1.1.80\n"
     ]
    }
   ],
   "source": [
    "import re\n",
    "ip = \"255.001.01.080\"\n",
    "string = re.sub('\\.[0]*', '.', ip)\n",
    "print(string)"
   ]
  },
  {
   "cell_type": "markdown",
   "id": "93ccc843",
   "metadata": {},
   "source": [
    "Question-14"
   ]
  },
  {
   "cell_type": "code",
   "execution_count": null,
   "id": "df71da50",
   "metadata": {},
   "outputs": [],
   "source": []
  },
  {
   "cell_type": "markdown",
   "id": "ab7a6669",
   "metadata": {},
   "source": [
    "Question-15"
   ]
  },
  {
   "cell_type": "code",
   "execution_count": 79,
   "id": "5f8f030c",
   "metadata": {},
   "outputs": [
    {
     "name": "stdout",
     "output_type": "stream",
     "text": [
      "Searching for \"fox\" in \"The quick brown fox jumps over the lazy dog.\" ->\n",
      "Matched!\n",
      "Searching for \"dog\" in \"The quick brown fox jumps over the lazy dog.\" ->\n",
      "Matched!\n",
      "Searching for \"horse\" in \"The quick brown fox jumps over the lazy dog.\" ->\n",
      "Not Matched!\n"
     ]
    }
   ],
   "source": [
    "import re\n",
    "patterns = [ 'fox', 'dog', 'horse' ]\n",
    "text = 'The quick brown fox jumps over the lazy dog.'\n",
    "for pattern in patterns:\n",
    "    print('Searching for \"%s\" in \"%s\" ->' % (pattern, text),)\n",
    "    if re.search(pattern,  text):\n",
    "        print('Matched!')\n",
    "    else:\n",
    "        print('Not Matched!')"
   ]
  },
  {
   "cell_type": "markdown",
   "id": "0bdcfdef",
   "metadata": {},
   "source": [
    "Question-16"
   ]
  },
  {
   "cell_type": "code",
   "execution_count": 80,
   "id": "1feca01a",
   "metadata": {},
   "outputs": [
    {
     "name": "stdout",
     "output_type": "stream",
     "text": [
      "Found \"fox\" in \"The quick brown fox jumps over the lazy dog.\" from 16 to 19 \n"
     ]
    }
   ],
   "source": [
    "import re\n",
    "pattern = 'fox'\n",
    "text = 'The quick brown fox jumps over the lazy dog.'\n",
    "match = re.search(pattern, text)\n",
    "s = match.start()\n",
    "e = match.end()\n",
    "print('Found \"%s\" in \"%s\" from %d to %d ' % \\\n",
    "    (match.re.pattern, match.string, s, e))\n"
   ]
  },
  {
   "cell_type": "markdown",
   "id": "593f0fd4",
   "metadata": {},
   "source": [
    "Question-17"
   ]
  },
  {
   "cell_type": "code",
   "execution_count": 83,
   "id": "01d85146",
   "metadata": {},
   "outputs": [
    {
     "name": "stdout",
     "output_type": "stream",
     "text": [
      "found \"exercises\"\n",
      "found \"exercises\"\n",
      "found \"exercises\"\n"
     ]
    }
   ],
   "source": [
    "import re\n",
    "text = \"Python exercises, PHP exercises, C# exercises\"\n",
    "pattern = \"exercises\"\n",
    "\n",
    "for match in re.findall(pattern, text):\n",
    "    print('found \"%s\"' % match)"
   ]
  },
  {
   "cell_type": "markdown",
   "id": "5be12778",
   "metadata": {},
   "source": [
    "Question-18"
   ]
  },
  {
   "cell_type": "code",
   "execution_count": null,
   "id": "53bbeed9",
   "metadata": {},
   "outputs": [],
   "source": []
  },
  {
   "cell_type": "markdown",
   "id": "9bdb59a3",
   "metadata": {},
   "source": [
    "Question-19"
   ]
  },
  {
   "cell_type": "code",
   "execution_count": null,
   "id": "b99e6be2",
   "metadata": {},
   "outputs": [],
   "source": []
  }
 ],
 "metadata": {
  "kernelspec": {
   "display_name": "Python 3 (ipykernel)",
   "language": "python",
   "name": "python3"
  },
  "language_info": {
   "codemirror_mode": {
    "name": "ipython",
    "version": 3
   },
   "file_extension": ".py",
   "mimetype": "text/x-python",
   "name": "python",
   "nbconvert_exporter": "python",
   "pygments_lexer": "ipython3",
   "version": "3.10.9"
  }
 },
 "nbformat": 4,
 "nbformat_minor": 5
}
