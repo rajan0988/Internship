{
 "cells": [
  {
   "cell_type": "code",
   "execution_count": 1,
   "id": "6a2333a8",
   "metadata": {},
   "outputs": [
    {
     "name": "stdout",
     "output_type": "stream",
     "text": [
      "Requirement already satisfied: selenium in c:\\users\\a\\anaconda3\\lib\\site-packages (4.15.2)\n",
      "Requirement already satisfied: urllib3[socks]<3,>=1.26 in c:\\users\\a\\anaconda3\\lib\\site-packages (from selenium) (1.26.14)\n",
      "Requirement already satisfied: certifi>=2021.10.8 in c:\\users\\a\\anaconda3\\lib\\site-packages (from selenium) (2022.12.7)\n",
      "Requirement already satisfied: trio-websocket~=0.9 in c:\\users\\a\\anaconda3\\lib\\site-packages (from selenium) (0.11.1)\n",
      "Requirement already satisfied: trio~=0.17 in c:\\users\\a\\anaconda3\\lib\\site-packages (from selenium) (0.23.1)\n",
      "Requirement already satisfied: outcome in c:\\users\\a\\anaconda3\\lib\\site-packages (from trio~=0.17->selenium) (1.3.0.post0)\n",
      "Requirement already satisfied: idna in c:\\users\\a\\anaconda3\\lib\\site-packages (from trio~=0.17->selenium) (3.4)\n",
      "Requirement already satisfied: sniffio>=1.3.0 in c:\\users\\a\\anaconda3\\lib\\site-packages (from trio~=0.17->selenium) (1.3.0)\n",
      "Requirement already satisfied: attrs>=20.1.0 in c:\\users\\a\\anaconda3\\lib\\site-packages (from trio~=0.17->selenium) (22.1.0)\n",
      "Requirement already satisfied: exceptiongroup>=1.0.0rc9 in c:\\users\\a\\anaconda3\\lib\\site-packages (from trio~=0.17->selenium) (1.1.3)\n",
      "Requirement already satisfied: cffi>=1.14 in c:\\users\\a\\anaconda3\\lib\\site-packages (from trio~=0.17->selenium) (1.15.1)\n",
      "Requirement already satisfied: sortedcontainers in c:\\users\\a\\anaconda3\\lib\\site-packages (from trio~=0.17->selenium) (2.4.0)\n",
      "Requirement already satisfied: wsproto>=0.14 in c:\\users\\a\\anaconda3\\lib\\site-packages (from trio-websocket~=0.9->selenium) (1.2.0)\n",
      "Requirement already satisfied: PySocks!=1.5.7,<2.0,>=1.5.6 in c:\\users\\a\\anaconda3\\lib\\site-packages (from urllib3[socks]<3,>=1.26->selenium) (1.7.1)\n",
      "Requirement already satisfied: pycparser in c:\\users\\a\\anaconda3\\lib\\site-packages (from cffi>=1.14->trio~=0.17->selenium) (2.21)\n",
      "Requirement already satisfied: h11<1,>=0.9.0 in c:\\users\\a\\anaconda3\\lib\\site-packages (from wsproto>=0.14->trio-websocket~=0.9->selenium) (0.14.0)\n"
     ]
    }
   ],
   "source": [
    "!pip install selenium"
   ]
  },
  {
   "cell_type": "code",
   "execution_count": 2,
   "id": "27c76121",
   "metadata": {},
   "outputs": [],
   "source": [
    "import selenium\n",
    "import pandas as pd\n",
    "import time\n",
    "from bs4 import BeautifulSoup\n",
    "\n",
    "from selenium import webdriver\n",
    "from selenium.common.exceptions import StaleElementReferenceException, NoSuchElementException\n",
    "\n",
    "import requests\n",
    "\n",
    "from selenium.webdriver.common.by import By"
   ]
  },
  {
   "cell_type": "markdown",
   "id": "faffdb7d",
   "metadata": {},
   "source": [
    "Question-1"
   ]
  },
  {
   "cell_type": "code",
   "execution_count": 14,
   "id": "85a6ff19",
   "metadata": {},
   "outputs": [],
   "source": [
    "driver=webdriver.Chrome()"
   ]
  },
  {
   "cell_type": "code",
   "execution_count": 15,
   "id": "c3cee7bc",
   "metadata": {},
   "outputs": [],
   "source": [
    "driver.get((\"https://www.amazon.in/\"))"
   ]
  },
  {
   "cell_type": "code",
   "execution_count": 16,
   "id": "59096043",
   "metadata": {},
   "outputs": [],
   "source": [
    "designation=driver.find_element(By.XPATH,\"/html/body/div[1]/header/div/div[1]/div[2]/div/form/div[2]/div[1]/input\")\n",
    "designation.send_keys(\"Guitars\")"
   ]
  },
  {
   "cell_type": "code",
   "execution_count": 17,
   "id": "310452ad",
   "metadata": {},
   "outputs": [],
   "source": [
    "submit=driver.find_element(By.XPATH,\"/html/body/div[1]/header/div/div[1]/div[2]/div/form/div[3]/div/span/input\")\n",
    "submit.click()"
   ]
  },
  {
   "cell_type": "code",
   "execution_count": 21,
   "id": "f4456949",
   "metadata": {},
   "outputs": [],
   "source": [
    "product_name=[]"
   ]
  },
  {
   "cell_type": "code",
   "execution_count": 27,
   "id": "6a26a433",
   "metadata": {},
   "outputs": [],
   "source": [
    "for i in range(3):\n",
    "    product_name=driver.find_elements(By.XPATH,\"//div[@class='a-section a-spacing-small puis-padding-left-small puis-padding-right-small']\")\n",
    "    \n",
    "    for j in product_name:\n",
    "        product_name.append\n",
    "    product_name[:20]"
   ]
  },
  {
   "cell_type": "code",
   "execution_count": 28,
   "id": "fac628ba",
   "metadata": {},
   "outputs": [
    {
     "data": {
      "text/plain": [
       "[<selenium.webdriver.remote.webelement.WebElement (session=\"f4ec97cae79f384f38ec18994b2a3639\", element=\"8738FE120A54FD9A1423D2974E639B4C_element_2300\")>,\n",
       " <selenium.webdriver.remote.webelement.WebElement (session=\"f4ec97cae79f384f38ec18994b2a3639\", element=\"8738FE120A54FD9A1423D2974E639B4C_element_2302\")>,\n",
       " <selenium.webdriver.remote.webelement.WebElement (session=\"f4ec97cae79f384f38ec18994b2a3639\", element=\"8738FE120A54FD9A1423D2974E639B4C_element_2303\")>,\n",
       " <selenium.webdriver.remote.webelement.WebElement (session=\"f4ec97cae79f384f38ec18994b2a3639\", element=\"8738FE120A54FD9A1423D2974E639B4C_element_454\")>,\n",
       " <selenium.webdriver.remote.webelement.WebElement (session=\"f4ec97cae79f384f38ec18994b2a3639\", element=\"8738FE120A54FD9A1423D2974E639B4C_element_2304\")>,\n",
       " <selenium.webdriver.remote.webelement.WebElement (session=\"f4ec97cae79f384f38ec18994b2a3639\", element=\"8738FE120A54FD9A1423D2974E639B4C_element_2305\")>,\n",
       " <selenium.webdriver.remote.webelement.WebElement (session=\"f4ec97cae79f384f38ec18994b2a3639\", element=\"8738FE120A54FD9A1423D2974E639B4C_element_2306\")>,\n",
       " <selenium.webdriver.remote.webelement.WebElement (session=\"f4ec97cae79f384f38ec18994b2a3639\", element=\"8738FE120A54FD9A1423D2974E639B4C_element_2307\")>,\n",
       " <selenium.webdriver.remote.webelement.WebElement (session=\"f4ec97cae79f384f38ec18994b2a3639\", element=\"8738FE120A54FD9A1423D2974E639B4C_element_2308\")>,\n",
       " <selenium.webdriver.remote.webelement.WebElement (session=\"f4ec97cae79f384f38ec18994b2a3639\", element=\"8738FE120A54FD9A1423D2974E639B4C_element_2309\")>,\n",
       " <selenium.webdriver.remote.webelement.WebElement (session=\"f4ec97cae79f384f38ec18994b2a3639\", element=\"8738FE120A54FD9A1423D2974E639B4C_element_2310\")>,\n",
       " <selenium.webdriver.remote.webelement.WebElement (session=\"f4ec97cae79f384f38ec18994b2a3639\", element=\"8738FE120A54FD9A1423D2974E639B4C_element_2311\")>,\n",
       " <selenium.webdriver.remote.webelement.WebElement (session=\"f4ec97cae79f384f38ec18994b2a3639\", element=\"8738FE120A54FD9A1423D2974E639B4C_element_2312\")>,\n",
       " <selenium.webdriver.remote.webelement.WebElement (session=\"f4ec97cae79f384f38ec18994b2a3639\", element=\"8738FE120A54FD9A1423D2974E639B4C_element_2313\")>,\n",
       " <selenium.webdriver.remote.webelement.WebElement (session=\"f4ec97cae79f384f38ec18994b2a3639\", element=\"8738FE120A54FD9A1423D2974E639B4C_element_2314\")>,\n",
       " <selenium.webdriver.remote.webelement.WebElement (session=\"f4ec97cae79f384f38ec18994b2a3639\", element=\"8738FE120A54FD9A1423D2974E639B4C_element_2315\")>,\n",
       " <selenium.webdriver.remote.webelement.WebElement (session=\"f4ec97cae79f384f38ec18994b2a3639\", element=\"8738FE120A54FD9A1423D2974E639B4C_element_2316\")>,\n",
       " <selenium.webdriver.remote.webelement.WebElement (session=\"f4ec97cae79f384f38ec18994b2a3639\", element=\"8738FE120A54FD9A1423D2974E639B4C_element_2317\")>,\n",
       " <selenium.webdriver.remote.webelement.WebElement (session=\"f4ec97cae79f384f38ec18994b2a3639\", element=\"8738FE120A54FD9A1423D2974E639B4C_element_2318\")>,\n",
       " <selenium.webdriver.remote.webelement.WebElement (session=\"f4ec97cae79f384f38ec18994b2a3639\", element=\"8738FE120A54FD9A1423D2974E639B4C_element_2319\")>]"
      ]
     },
     "execution_count": 28,
     "metadata": {},
     "output_type": "execute_result"
    }
   ],
   "source": [
    "product_name[:20]"
   ]
  },
  {
   "cell_type": "markdown",
   "id": "f5447930",
   "metadata": {},
   "source": [
    "Question-2"
   ]
  },
  {
   "cell_type": "code",
   "execution_count": 25,
   "id": "9fab2881",
   "metadata": {},
   "outputs": [],
   "source": [
    "driver.get((\"https://www.amazon.in/\"))"
   ]
  },
  {
   "cell_type": "code",
   "execution_count": 26,
   "id": "3efda698",
   "metadata": {},
   "outputs": [],
   "source": [
    "designation=driver.find_element(By.XPATH,\"/html/body/div[1]/header/div/div[1]/div[2]/div/form/div[2]/div[1]/input\")\n",
    "designation.send_keys(\"Guitars\")"
   ]
  },
  {
   "cell_type": "code",
   "execution_count": 27,
   "id": "ed183980",
   "metadata": {},
   "outputs": [],
   "source": [
    "submit=driver.find_element(By.XPATH,\"/html/body/div[1]/header/div/div[1]/div[2]/div/form/div[3]/div/span/input\")\n",
    "submit.click()"
   ]
  },
  {
   "cell_type": "code",
   "execution_count": 30,
   "id": "68092473",
   "metadata": {},
   "outputs": [],
   "source": [
    "page_url =[]\n",
    "start=0\n",
    "end=4\n",
    "\n",
    "for page in range(start,end):\n",
    "        url=driver.find_elements(By.XPATH,\"//span[@class='s-pagination-item s-pagination-selected']\")\n",
    "        for i in url:\n",
    "            page_url.append(i.get_attribute('href'))\n",
    "        next_button=driver.find_element(By.XPATH,\"/html/body/div[1]/div[1]/div[1]/div[1]/div/span[1]/div[1]/div[66]/div/div/span/a[3]\")\n",
    "        \n",
    "        \n",
    "        \n",
    "       "
   ]
  },
  {
   "cell_type": "code",
   "execution_count": 31,
   "id": "54985cf6",
   "metadata": {},
   "outputs": [
    {
     "data": {
      "text/plain": [
       "4"
      ]
     },
     "execution_count": 31,
     "metadata": {},
     "output_type": "execute_result"
    }
   ],
   "source": [
    "len(page_url)"
   ]
  },
  {
   "cell_type": "code",
   "execution_count": 32,
   "id": "d7e407d6",
   "metadata": {},
   "outputs": [
    {
     "data": {
      "text/plain": [
       "[None, None, None, None]"
      ]
     },
     "execution_count": 32,
     "metadata": {},
     "output_type": "execute_result"
    }
   ],
   "source": [
    "page_url"
   ]
  },
  {
   "cell_type": "markdown",
   "id": "bd72eb92",
   "metadata": {},
   "source": [
    "Question-3"
   ]
  },
  {
   "cell_type": "code",
   "execution_count": 76,
   "id": "4f9d8609",
   "metadata": {},
   "outputs": [],
   "source": [
    "driver.get((\"https://images.google.com\"))"
   ]
  },
  {
   "cell_type": "code",
   "execution_count": 84,
   "id": "cd93b50c",
   "metadata": {},
   "outputs": [],
   "source": [
    "search_bar = driver.find_element(By.CLASS_NAME,\"gLFyf\")\n",
    "search_bar.clear()\n",
    "search_bar.send_keys(\"fruits\")"
   ]
  },
  {
   "cell_type": "code",
   "execution_count": 85,
   "id": "6f538a83",
   "metadata": {},
   "outputs": [],
   "source": [
    "search_button = driver.find_element(By.XPATH,\"/html/body/div[1]/div[3]/form/div[1]/div[1]/div[1]/button\")\n",
    "search_button.click()"
   ]
  },
  {
   "cell_type": "code",
   "execution_count": null,
   "id": "efac57aa",
   "metadata": {},
   "outputs": [],
   "source": [
    "fruits_images=[]"
   ]
  },
  {
   "cell_type": "code",
   "execution_count": 89,
   "id": "2e346d22",
   "metadata": {},
   "outputs": [],
   "source": [
    "for i in range(3):\n",
    "    fruits_images=driver.find_elements(By.XPATH,\"//div[@class='fR600b islir']\")\n",
    "    \n",
    "    for j in fruits_images:\n",
    "        fruits_images.append\n",
    "    fruits_images[:10]\n",
    "    "
   ]
  },
  {
   "cell_type": "code",
   "execution_count": 90,
   "id": "07bf0951",
   "metadata": {},
   "outputs": [
    {
     "name": "stdout",
     "output_type": "stream",
     "text": [
      "48\n"
     ]
    }
   ],
   "source": [
    "print(len(fruits_images))"
   ]
  },
  {
   "cell_type": "code",
   "execution_count": 91,
   "id": "74eb27f3",
   "metadata": {},
   "outputs": [
    {
     "data": {
      "text/plain": [
       "[<selenium.webdriver.remote.webelement.WebElement (session=\"2dce1b7d1b1fca5a907ed5b653289d85\", element=\"0AB4976041C8FD3525EBA5D9475C689A_element_859\")>,\n",
       " <selenium.webdriver.remote.webelement.WebElement (session=\"2dce1b7d1b1fca5a907ed5b653289d85\", element=\"0AB4976041C8FD3525EBA5D9475C689A_element_892\")>,\n",
       " <selenium.webdriver.remote.webelement.WebElement (session=\"2dce1b7d1b1fca5a907ed5b653289d85\", element=\"0AB4976041C8FD3525EBA5D9475C689A_element_899\")>,\n",
       " <selenium.webdriver.remote.webelement.WebElement (session=\"2dce1b7d1b1fca5a907ed5b653289d85\", element=\"0AB4976041C8FD3525EBA5D9475C689A_element_905\")>,\n",
       " <selenium.webdriver.remote.webelement.WebElement (session=\"2dce1b7d1b1fca5a907ed5b653289d85\", element=\"0AB4976041C8FD3525EBA5D9475C689A_element_908\")>,\n",
       " <selenium.webdriver.remote.webelement.WebElement (session=\"2dce1b7d1b1fca5a907ed5b653289d85\", element=\"0AB4976041C8FD3525EBA5D9475C689A_element_909\")>,\n",
       " <selenium.webdriver.remote.webelement.WebElement (session=\"2dce1b7d1b1fca5a907ed5b653289d85\", element=\"0AB4976041C8FD3525EBA5D9475C689A_element_910\")>,\n",
       " <selenium.webdriver.remote.webelement.WebElement (session=\"2dce1b7d1b1fca5a907ed5b653289d85\", element=\"0AB4976041C8FD3525EBA5D9475C689A_element_911\")>,\n",
       " <selenium.webdriver.remote.webelement.WebElement (session=\"2dce1b7d1b1fca5a907ed5b653289d85\", element=\"0AB4976041C8FD3525EBA5D9475C689A_element_912\")>,\n",
       " <selenium.webdriver.remote.webelement.WebElement (session=\"2dce1b7d1b1fca5a907ed5b653289d85\", element=\"0AB4976041C8FD3525EBA5D9475C689A_element_913\")>]"
      ]
     },
     "execution_count": 91,
     "metadata": {},
     "output_type": "execute_result"
    }
   ],
   "source": [
    "fruits_images[:10]"
   ]
  },
  {
   "cell_type": "code",
   "execution_count": 92,
   "id": "4acc6d17",
   "metadata": {},
   "outputs": [],
   "source": [
    "driver.execute_script(\"window.history.go(-1)\")"
   ]
  },
  {
   "cell_type": "code",
   "execution_count": 93,
   "id": "0fbb8cb3",
   "metadata": {},
   "outputs": [],
   "source": [
    "search_bar = driver.find_element(By.CLASS_NAME,\"gLFyf\")\n",
    "search_bar.clear()\n",
    "search_bar.send_keys(\"Cars\")"
   ]
  },
  {
   "cell_type": "code",
   "execution_count": 94,
   "id": "2cb16ec1",
   "metadata": {},
   "outputs": [],
   "source": [
    "search_button = driver.find_element(By.XPATH,\"/html/body/div[1]/div[3]/form/div[1]/div[1]/div[1]/button\")\n",
    "search_button.click()"
   ]
  },
  {
   "cell_type": "code",
   "execution_count": 95,
   "id": "3fbda39c",
   "metadata": {},
   "outputs": [],
   "source": [
    "cars_images=[]"
   ]
  },
  {
   "cell_type": "code",
   "execution_count": 99,
   "id": "8ef843ba",
   "metadata": {},
   "outputs": [],
   "source": [
    "for i in range(3):\n",
    "    cars_images=driver.find_elements(By.XPATH,\"//div[@class='fR600b islir']\")\n",
    "    \n",
    "    for j in cars_images:\n",
    "        fruits_images.append\n",
    "    cars_images[:10]"
   ]
  },
  {
   "cell_type": "code",
   "execution_count": 100,
   "id": "18030107",
   "metadata": {},
   "outputs": [
    {
     "data": {
      "text/plain": [
       "[<selenium.webdriver.remote.webelement.WebElement (session=\"2dce1b7d1b1fca5a907ed5b653289d85\", element=\"05B4F244B47261B01D2662AC73D55AA0_element_993\")>,\n",
       " <selenium.webdriver.remote.webelement.WebElement (session=\"2dce1b7d1b1fca5a907ed5b653289d85\", element=\"05B4F244B47261B01D2662AC73D55AA0_element_1007\")>,\n",
       " <selenium.webdriver.remote.webelement.WebElement (session=\"2dce1b7d1b1fca5a907ed5b653289d85\", element=\"05B4F244B47261B01D2662AC73D55AA0_element_1021\")>,\n",
       " <selenium.webdriver.remote.webelement.WebElement (session=\"2dce1b7d1b1fca5a907ed5b653289d85\", element=\"05B4F244B47261B01D2662AC73D55AA0_element_1035\")>,\n",
       " <selenium.webdriver.remote.webelement.WebElement (session=\"2dce1b7d1b1fca5a907ed5b653289d85\", element=\"05B4F244B47261B01D2662AC73D55AA0_element_1049\")>,\n",
       " <selenium.webdriver.remote.webelement.WebElement (session=\"2dce1b7d1b1fca5a907ed5b653289d85\", element=\"05B4F244B47261B01D2662AC73D55AA0_element_1063\")>,\n",
       " <selenium.webdriver.remote.webelement.WebElement (session=\"2dce1b7d1b1fca5a907ed5b653289d85\", element=\"05B4F244B47261B01D2662AC73D55AA0_element_1077\")>,\n",
       " <selenium.webdriver.remote.webelement.WebElement (session=\"2dce1b7d1b1fca5a907ed5b653289d85\", element=\"05B4F244B47261B01D2662AC73D55AA0_element_1091\")>,\n",
       " <selenium.webdriver.remote.webelement.WebElement (session=\"2dce1b7d1b1fca5a907ed5b653289d85\", element=\"05B4F244B47261B01D2662AC73D55AA0_element_1105\")>,\n",
       " <selenium.webdriver.remote.webelement.WebElement (session=\"2dce1b7d1b1fca5a907ed5b653289d85\", element=\"05B4F244B47261B01D2662AC73D55AA0_element_1119\")>]"
      ]
     },
     "execution_count": 100,
     "metadata": {},
     "output_type": "execute_result"
    }
   ],
   "source": [
    "cars_images[:10]"
   ]
  },
  {
   "cell_type": "code",
   "execution_count": 101,
   "id": "80eb40a4",
   "metadata": {},
   "outputs": [],
   "source": [
    "driver.execute_script(\"window.history.go(-1)\")"
   ]
  },
  {
   "cell_type": "code",
   "execution_count": 102,
   "id": "d99d062c",
   "metadata": {},
   "outputs": [],
   "source": [
    "search_bar = driver.find_element(By.CLASS_NAME,\"gLFyf\")\n",
    "search_bar.clear()\n",
    "search_bar.send_keys(\"Guitars\")"
   ]
  },
  {
   "cell_type": "code",
   "execution_count": 103,
   "id": "49528fbf",
   "metadata": {},
   "outputs": [],
   "source": [
    "search_button = driver.find_element(By.XPATH,\"/html/body/div[1]/div[3]/form/div[1]/div[1]/div[1]/button\")\n",
    "search_button.click()"
   ]
  },
  {
   "cell_type": "code",
   "execution_count": 104,
   "id": "3bd1f226",
   "metadata": {},
   "outputs": [],
   "source": [
    "guitars_images=[]"
   ]
  },
  {
   "cell_type": "code",
   "execution_count": 105,
   "id": "ec204655",
   "metadata": {},
   "outputs": [],
   "source": [
    "for i in range(3):\n",
    "    guitar_images=driver.find_elements(By.XPATH,\"//div[@class='fR600b islir']\")\n",
    "    \n",
    "    for j in guitar_images:\n",
    "        guitar_images.append\n",
    "    guitar_images[:10]"
   ]
  },
  {
   "cell_type": "code",
   "execution_count": 106,
   "id": "7d1afbd2",
   "metadata": {},
   "outputs": [
    {
     "data": {
      "text/plain": [
       "[<selenium.webdriver.remote.webelement.WebElement (session=\"2dce1b7d1b1fca5a907ed5b653289d85\", element=\"70980FDD235D27114A73B1BE3A946788_element_3404\")>,\n",
       " <selenium.webdriver.remote.webelement.WebElement (session=\"2dce1b7d1b1fca5a907ed5b653289d85\", element=\"70980FDD235D27114A73B1BE3A946788_element_3415\")>,\n",
       " <selenium.webdriver.remote.webelement.WebElement (session=\"2dce1b7d1b1fca5a907ed5b653289d85\", element=\"70980FDD235D27114A73B1BE3A946788_element_3418\")>,\n",
       " <selenium.webdriver.remote.webelement.WebElement (session=\"2dce1b7d1b1fca5a907ed5b653289d85\", element=\"70980FDD235D27114A73B1BE3A946788_element_3419\")>,\n",
       " <selenium.webdriver.remote.webelement.WebElement (session=\"2dce1b7d1b1fca5a907ed5b653289d85\", element=\"70980FDD235D27114A73B1BE3A946788_element_3420\")>,\n",
       " <selenium.webdriver.remote.webelement.WebElement (session=\"2dce1b7d1b1fca5a907ed5b653289d85\", element=\"70980FDD235D27114A73B1BE3A946788_element_3421\")>,\n",
       " <selenium.webdriver.remote.webelement.WebElement (session=\"2dce1b7d1b1fca5a907ed5b653289d85\", element=\"70980FDD235D27114A73B1BE3A946788_element_3422\")>,\n",
       " <selenium.webdriver.remote.webelement.WebElement (session=\"2dce1b7d1b1fca5a907ed5b653289d85\", element=\"70980FDD235D27114A73B1BE3A946788_element_3423\")>,\n",
       " <selenium.webdriver.remote.webelement.WebElement (session=\"2dce1b7d1b1fca5a907ed5b653289d85\", element=\"70980FDD235D27114A73B1BE3A946788_element_3424\")>,\n",
       " <selenium.webdriver.remote.webelement.WebElement (session=\"2dce1b7d1b1fca5a907ed5b653289d85\", element=\"70980FDD235D27114A73B1BE3A946788_element_3425\")>]"
      ]
     },
     "execution_count": 106,
     "metadata": {},
     "output_type": "execute_result"
    }
   ],
   "source": [
    "guitar_images[:10]"
   ]
  },
  {
   "cell_type": "code",
   "execution_count": 107,
   "id": "ef39cbd6",
   "metadata": {},
   "outputs": [],
   "source": [
    "driver.execute_script(\"window.history.go(-1)\")"
   ]
  },
  {
   "cell_type": "code",
   "execution_count": 108,
   "id": "8a9cabc9",
   "metadata": {},
   "outputs": [],
   "source": [
    "search_bar = driver.find_element(By.CLASS_NAME,\"gLFyf\")\n",
    "search_bar.clear()\n",
    "search_bar.send_keys(\"cakes\")"
   ]
  },
  {
   "cell_type": "code",
   "execution_count": 109,
   "id": "ed9902c9",
   "metadata": {},
   "outputs": [],
   "source": [
    "search_button = driver.find_element(By.XPATH,\"/html/body/div[1]/div[3]/form/div[1]/div[1]/div[1]/button\")\n",
    "search_button.click()"
   ]
  },
  {
   "cell_type": "code",
   "execution_count": 110,
   "id": "eb159e42",
   "metadata": {},
   "outputs": [],
   "source": [
    "cakes_images=[]"
   ]
  },
  {
   "cell_type": "code",
   "execution_count": 111,
   "id": "6feef4dd",
   "metadata": {},
   "outputs": [],
   "source": [
    "for i in range(3):\n",
    "    cakes_images=driver.find_elements(By.XPATH,\"//div[@class='fR600b islir']\")\n",
    "    \n",
    "    for j in cakes_images:\n",
    "        cakes_images.append\n",
    "    cakes_images[:10]"
   ]
  },
  {
   "cell_type": "code",
   "execution_count": 112,
   "id": "5a35c446",
   "metadata": {},
   "outputs": [
    {
     "data": {
      "text/plain": [
       "[<selenium.webdriver.remote.webelement.WebElement (session=\"2dce1b7d1b1fca5a907ed5b653289d85\", element=\"F91435DC8C38745DA6C4790F006AB9D4_element_3510\")>,\n",
       " <selenium.webdriver.remote.webelement.WebElement (session=\"2dce1b7d1b1fca5a907ed5b653289d85\", element=\"F91435DC8C38745DA6C4790F006AB9D4_element_3524\")>,\n",
       " <selenium.webdriver.remote.webelement.WebElement (session=\"2dce1b7d1b1fca5a907ed5b653289d85\", element=\"F91435DC8C38745DA6C4790F006AB9D4_element_3538\")>,\n",
       " <selenium.webdriver.remote.webelement.WebElement (session=\"2dce1b7d1b1fca5a907ed5b653289d85\", element=\"F91435DC8C38745DA6C4790F006AB9D4_element_3552\")>,\n",
       " <selenium.webdriver.remote.webelement.WebElement (session=\"2dce1b7d1b1fca5a907ed5b653289d85\", element=\"F91435DC8C38745DA6C4790F006AB9D4_element_3571\")>,\n",
       " <selenium.webdriver.remote.webelement.WebElement (session=\"2dce1b7d1b1fca5a907ed5b653289d85\", element=\"F91435DC8C38745DA6C4790F006AB9D4_element_3595\")>,\n",
       " <selenium.webdriver.remote.webelement.WebElement (session=\"2dce1b7d1b1fca5a907ed5b653289d85\", element=\"F91435DC8C38745DA6C4790F006AB9D4_element_3609\")>,\n",
       " <selenium.webdriver.remote.webelement.WebElement (session=\"2dce1b7d1b1fca5a907ed5b653289d85\", element=\"F91435DC8C38745DA6C4790F006AB9D4_element_3623\")>,\n",
       " <selenium.webdriver.remote.webelement.WebElement (session=\"2dce1b7d1b1fca5a907ed5b653289d85\", element=\"F91435DC8C38745DA6C4790F006AB9D4_element_3644\")>,\n",
       " <selenium.webdriver.remote.webelement.WebElement (session=\"2dce1b7d1b1fca5a907ed5b653289d85\", element=\"F91435DC8C38745DA6C4790F006AB9D4_element_3668\")>]"
      ]
     },
     "execution_count": 112,
     "metadata": {},
     "output_type": "execute_result"
    }
   ],
   "source": [
    "cakes_images[:10]"
   ]
  },
  {
   "cell_type": "markdown",
   "id": "41879945",
   "metadata": {},
   "source": [
    "Question-5"
   ]
  },
  {
   "cell_type": "code",
   "execution_count": 2,
   "id": "e92a4090",
   "metadata": {},
   "outputs": [
    {
     "name": "stdout",
     "output_type": "stream",
     "text": [
      "Requirement already satisfied: selenium in c:\\users\\a\\anaconda3\\lib\\site-packages (4.15.2)\n",
      "Requirement already satisfied: trio~=0.17 in c:\\users\\a\\anaconda3\\lib\\site-packages (from selenium) (0.23.1)\n",
      "Requirement already satisfied: urllib3[socks]<3,>=1.26 in c:\\users\\a\\anaconda3\\lib\\site-packages (from selenium) (1.26.14)\n",
      "Requirement already satisfied: trio-websocket~=0.9 in c:\\users\\a\\anaconda3\\lib\\site-packages (from selenium) (0.11.1)\n",
      "Requirement already satisfied: certifi>=2021.10.8 in c:\\users\\a\\anaconda3\\lib\\site-packages (from selenium) (2022.12.7)\n",
      "Requirement already satisfied: idna in c:\\users\\a\\anaconda3\\lib\\site-packages (from trio~=0.17->selenium) (3.4)\n",
      "Requirement already satisfied: sortedcontainers in c:\\users\\a\\anaconda3\\lib\\site-packages (from trio~=0.17->selenium) (2.4.0)\n",
      "Requirement already satisfied: sniffio>=1.3.0 in c:\\users\\a\\anaconda3\\lib\\site-packages (from trio~=0.17->selenium) (1.3.0)\n",
      "Requirement already satisfied: outcome in c:\\users\\a\\anaconda3\\lib\\site-packages (from trio~=0.17->selenium) (1.3.0.post0)\n",
      "Requirement already satisfied: exceptiongroup>=1.0.0rc9 in c:\\users\\a\\anaconda3\\lib\\site-packages (from trio~=0.17->selenium) (1.1.3)\n",
      "Requirement already satisfied: cffi>=1.14 in c:\\users\\a\\anaconda3\\lib\\site-packages (from trio~=0.17->selenium) (1.15.1)\n",
      "Requirement already satisfied: attrs>=20.1.0 in c:\\users\\a\\anaconda3\\lib\\site-packages (from trio~=0.17->selenium) (22.1.0)\n",
      "Requirement already satisfied: wsproto>=0.14 in c:\\users\\a\\anaconda3\\lib\\site-packages (from trio-websocket~=0.9->selenium) (1.2.0)\n",
      "Requirement already satisfied: PySocks!=1.5.7,<2.0,>=1.5.6 in c:\\users\\a\\anaconda3\\lib\\site-packages (from urllib3[socks]<3,>=1.26->selenium) (1.7.1)\n",
      "Requirement already satisfied: pycparser in c:\\users\\a\\anaconda3\\lib\\site-packages (from cffi>=1.14->trio~=0.17->selenium) (2.21)\n",
      "Requirement already satisfied: h11<1,>=0.9.0 in c:\\users\\a\\anaconda3\\lib\\site-packages (from wsproto>=0.14->trio-websocket~=0.9->selenium) (0.14.0)\n"
     ]
    }
   ],
   "source": [
    "!pip install selenium"
   ]
  },
  {
   "cell_type": "code",
   "execution_count": 3,
   "id": "6240005e",
   "metadata": {},
   "outputs": [],
   "source": [
    "import selenium\n",
    "import pandas as pd\n",
    "import time\n",
    "from bs4 import BeautifulSoup\n",
    "\n",
    "from selenium import webdriver\n",
    "from selenium.common.exceptions import StaleElementReferenceException, NoSuchElementException\n",
    "\n",
    "import requests\n",
    "\n",
    "from selenium.webdriver.common.by import By"
   ]
  },
  {
   "cell_type": "code",
   "execution_count": 4,
   "id": "09e94480",
   "metadata": {},
   "outputs": [],
   "source": [
    "driver=webdriver.Chrome()"
   ]
  },
  {
   "cell_type": "code",
   "execution_count": 5,
   "id": "d75144d7",
   "metadata": {},
   "outputs": [],
   "source": [
    "driver.get(\"https://www.google.co.in/maps\")"
   ]
  },
  {
   "cell_type": "code",
   "execution_count": 12,
   "id": "8e4075d2",
   "metadata": {},
   "outputs": [
    {
     "name": "stdout",
     "output_type": "stream",
     "text": [
      "Enter City Name : Bathinda\n"
     ]
    }
   ],
   "source": [
    "city = input('Enter City Name : ')"
   ]
  },
  {
   "cell_type": "code",
   "execution_count": 6,
   "id": "549d7cb9",
   "metadata": {},
   "outputs": [],
   "source": [
    "search=driver.find_element(By.XPATH,\"/html/body/div[3]/div[8]/div[3]/div[1]/div[1]/div/div[2]/form/input\")\n",
    "search.send_keys(\"Bathinda\")"
   ]
  },
  {
   "cell_type": "code",
   "execution_count": 7,
   "id": "87431772",
   "metadata": {},
   "outputs": [],
   "source": [
    "submit=driver.find_element(By.XPATH,\"/html/body/div[3]/div[8]/div[3]/div[1]/div[1]/div/div[2]/div[1]/button\")\n",
    "submit.click()"
   ]
  },
  {
   "cell_type": "code",
   "execution_count": 13,
   "id": "35e6e96c",
   "metadata": {},
   "outputs": [
    {
     "name": "stdout",
     "output_type": "stream",
     "text": [
      "URL Extracted:  https://www.google.co.in/maps/dir/30.2231796,74.9542157/Bathinda,+Punjab/@30.2184029,74.9338432,14.5z/data=!4m18!1m8!3m7!1s0x39173297173abbcd:0xa00033c0a58a5ac8!2sBathinda,+Punjab!3b1!8m2!3d30.210994!4d74.9454745!16zL20vMDJzNWsz!4m8!1m1!4e1!1m5!1m1!1s0x39173297173abbcd:0xa00033c0a58a5ac8!2m2!1d74.9454745!2d30.210994?entry=ttu\n",
      "Error:  name 're' is not defined\n"
     ]
    }
   ],
   "source": [
    "try:\n",
    "    url_string = driver.current_url\n",
    "    print(\"URL Extracted: \", url_string)\n",
    "    lat_lng = re.findall(r'@(.*)data',url_string)\n",
    "    if len(lat_lng):\n",
    "        lat_lng_list = lat_lng[0].split(\",\")\n",
    "        if len(lat_lng_list)>=2:\n",
    "            lat = lat_lng_list[0]\n",
    "            lng = lat_lng_list[1]\n",
    "        print(\"Latitude = {}, Longitude = {}\".format(lat, lng))\n",
    "\n",
    "except Exception as e:\n",
    "        print(\"Error: \", str(e))\n",
    "       "
   ]
  },
  {
   "cell_type": "markdown",
   "id": "37dc5d26",
   "metadata": {},
   "source": [
    "Question-6"
   ]
  },
  {
   "cell_type": "code",
   "execution_count": 45,
   "id": "30bac2fd",
   "metadata": {},
   "outputs": [],
   "source": [
    "driver=webdriver.Chrome()"
   ]
  },
  {
   "cell_type": "code",
   "execution_count": 53,
   "id": "4da824c6",
   "metadata": {},
   "outputs": [],
   "source": [
    "driver.get(\"https://flipkart.com\")"
   ]
  },
  {
   "cell_type": "code",
   "execution_count": 54,
   "id": "afa2fddf",
   "metadata": {},
   "outputs": [],
   "source": [
    "laptop_search=driver.find_element(By.XPATH,\"/html/body/div[1]/div/div[1]/div/div/div/div/div[1]/div/div[1]/div/div[1]/header/div[1]/div[2]/form/div/div/input\")\n",
    "laptop_search.send_keys(\"Top 10 Gaming Laptops\")\n"
   ]
  },
  {
   "cell_type": "code",
   "execution_count": 57,
   "id": "f96d8a0e",
   "metadata": {},
   "outputs": [],
   "source": [
    "submit=driver.find_element(By.XPATH,\"/html/body/div[1]/div/div[1]/div/div/div/div/div[1]/div/div[1]/div/div[1]/header/div[1]/div[2]/form/div/button\")\n",
    "submit.click()"
   ]
  },
  {
   "cell_type": "code",
   "execution_count": 58,
   "id": "eedcc435",
   "metadata": {},
   "outputs": [],
   "source": [
    "Brands=[]\n",
    "Products_Description=[]\n",
    "Specification=[]\n",
    "Price=[]"
   ]
  },
  {
   "cell_type": "code",
   "execution_count": 59,
   "id": "16e91325",
   "metadata": {},
   "outputs": [],
   "source": [
    "brands=driver.find_elements(By.XPATH,\"//div[@class='_4rR01T']\")"
   ]
  },
  {
   "cell_type": "code",
   "execution_count": 60,
   "id": "d28e92be",
   "metadata": {},
   "outputs": [
    {
     "data": {
      "text/plain": [
       "24"
      ]
     },
     "execution_count": 60,
     "metadata": {},
     "output_type": "execute_result"
    }
   ],
   "source": [
    "len(brands)"
   ]
  },
  {
   "cell_type": "code",
   "execution_count": 61,
   "id": "d92c008f",
   "metadata": {},
   "outputs": [
    {
     "data": {
      "text/plain": [
       "[<selenium.webdriver.remote.webelement.WebElement (session=\"0eaabc4d54a2f802497bd5eab8d95c65\", element=\"B0EBE7BE0139BA2F68E8C5D08BDB8C7A_element_653\")>,\n",
       " <selenium.webdriver.remote.webelement.WebElement (session=\"0eaabc4d54a2f802497bd5eab8d95c65\", element=\"B0EBE7BE0139BA2F68E8C5D08BDB8C7A_element_659\")>,\n",
       " <selenium.webdriver.remote.webelement.WebElement (session=\"0eaabc4d54a2f802497bd5eab8d95c65\", element=\"B0EBE7BE0139BA2F68E8C5D08BDB8C7A_element_660\")>,\n",
       " <selenium.webdriver.remote.webelement.WebElement (session=\"0eaabc4d54a2f802497bd5eab8d95c65\", element=\"B0EBE7BE0139BA2F68E8C5D08BDB8C7A_element_661\")>,\n",
       " <selenium.webdriver.remote.webelement.WebElement (session=\"0eaabc4d54a2f802497bd5eab8d95c65\", element=\"B0EBE7BE0139BA2F68E8C5D08BDB8C7A_element_662\")>,\n",
       " <selenium.webdriver.remote.webelement.WebElement (session=\"0eaabc4d54a2f802497bd5eab8d95c65\", element=\"B0EBE7BE0139BA2F68E8C5D08BDB8C7A_element_663\")>,\n",
       " <selenium.webdriver.remote.webelement.WebElement (session=\"0eaabc4d54a2f802497bd5eab8d95c65\", element=\"B0EBE7BE0139BA2F68E8C5D08BDB8C7A_element_664\")>,\n",
       " <selenium.webdriver.remote.webelement.WebElement (session=\"0eaabc4d54a2f802497bd5eab8d95c65\", element=\"B0EBE7BE0139BA2F68E8C5D08BDB8C7A_element_665\")>,\n",
       " <selenium.webdriver.remote.webelement.WebElement (session=\"0eaabc4d54a2f802497bd5eab8d95c65\", element=\"B0EBE7BE0139BA2F68E8C5D08BDB8C7A_element_666\")>,\n",
       " <selenium.webdriver.remote.webelement.WebElement (session=\"0eaabc4d54a2f802497bd5eab8d95c65\", element=\"B0EBE7BE0139BA2F68E8C5D08BDB8C7A_element_562\")>]"
      ]
     },
     "execution_count": 61,
     "metadata": {},
     "output_type": "execute_result"
    }
   ],
   "source": [
    "brands[:10]"
   ]
  },
  {
   "cell_type": "code",
   "execution_count": 63,
   "id": "1048aae8",
   "metadata": {},
   "outputs": [
    {
     "data": {
      "text/plain": [
       "[<selenium.webdriver.remote.webelement.WebElement (session=\"0eaabc4d54a2f802497bd5eab8d95c65\", element=\"B0EBE7BE0139BA2F68E8C5D08BDB8C7A_element_653\")>,\n",
       " <selenium.webdriver.remote.webelement.WebElement (session=\"0eaabc4d54a2f802497bd5eab8d95c65\", element=\"B0EBE7BE0139BA2F68E8C5D08BDB8C7A_element_659\")>,\n",
       " <selenium.webdriver.remote.webelement.WebElement (session=\"0eaabc4d54a2f802497bd5eab8d95c65\", element=\"B0EBE7BE0139BA2F68E8C5D08BDB8C7A_element_660\")>,\n",
       " <selenium.webdriver.remote.webelement.WebElement (session=\"0eaabc4d54a2f802497bd5eab8d95c65\", element=\"B0EBE7BE0139BA2F68E8C5D08BDB8C7A_element_661\")>,\n",
       " <selenium.webdriver.remote.webelement.WebElement (session=\"0eaabc4d54a2f802497bd5eab8d95c65\", element=\"B0EBE7BE0139BA2F68E8C5D08BDB8C7A_element_662\")>,\n",
       " <selenium.webdriver.remote.webelement.WebElement (session=\"0eaabc4d54a2f802497bd5eab8d95c65\", element=\"B0EBE7BE0139BA2F68E8C5D08BDB8C7A_element_663\")>,\n",
       " <selenium.webdriver.remote.webelement.WebElement (session=\"0eaabc4d54a2f802497bd5eab8d95c65\", element=\"B0EBE7BE0139BA2F68E8C5D08BDB8C7A_element_664\")>,\n",
       " <selenium.webdriver.remote.webelement.WebElement (session=\"0eaabc4d54a2f802497bd5eab8d95c65\", element=\"B0EBE7BE0139BA2F68E8C5D08BDB8C7A_element_665\")>,\n",
       " <selenium.webdriver.remote.webelement.WebElement (session=\"0eaabc4d54a2f802497bd5eab8d95c65\", element=\"B0EBE7BE0139BA2F68E8C5D08BDB8C7A_element_666\")>,\n",
       " <selenium.webdriver.remote.webelement.WebElement (session=\"0eaabc4d54a2f802497bd5eab8d95c65\", element=\"B0EBE7BE0139BA2F68E8C5D08BDB8C7A_element_562\")>]"
      ]
     },
     "execution_count": 63,
     "metadata": {},
     "output_type": "execute_result"
    }
   ],
   "source": [
    "for i in brands:\n",
    "   \n",
    "    Brands.append(str(i.text).replace(\"\\n\",\"\"))\n",
    "Brands\n",
    "brands[:10]"
   ]
  },
  {
   "cell_type": "code",
   "execution_count": 73,
   "id": "42b8db49",
   "metadata": {},
   "outputs": [
    {
     "data": {
      "text/plain": [
       "29"
      ]
     },
     "execution_count": 73,
     "metadata": {},
     "output_type": "execute_result"
    }
   ],
   "source": [
    "specification=driver.find_elements(By.XPATH,\"//div[@class='_1AtVbE col-12-12']\")\n",
    "len(specification)"
   ]
  },
  {
   "cell_type": "code",
   "execution_count": 75,
   "id": "8f3abbae",
   "metadata": {},
   "outputs": [
    {
     "data": {
      "text/plain": [
       "[<selenium.webdriver.remote.webelement.WebElement (session=\"0eaabc4d54a2f802497bd5eab8d95c65\", element=\"B0EBE7BE0139BA2F68E8C5D08BDB8C7A_element_722\")>,\n",
       " <selenium.webdriver.remote.webelement.WebElement (session=\"0eaabc4d54a2f802497bd5eab8d95c65\", element=\"B0EBE7BE0139BA2F68E8C5D08BDB8C7A_element_575\")>,\n",
       " <selenium.webdriver.remote.webelement.WebElement (session=\"0eaabc4d54a2f802497bd5eab8d95c65\", element=\"B0EBE7BE0139BA2F68E8C5D08BDB8C7A_element_576\")>,\n",
       " <selenium.webdriver.remote.webelement.WebElement (session=\"0eaabc4d54a2f802497bd5eab8d95c65\", element=\"B0EBE7BE0139BA2F68E8C5D08BDB8C7A_element_577\")>,\n",
       " <selenium.webdriver.remote.webelement.WebElement (session=\"0eaabc4d54a2f802497bd5eab8d95c65\", element=\"B0EBE7BE0139BA2F68E8C5D08BDB8C7A_element_578\")>,\n",
       " <selenium.webdriver.remote.webelement.WebElement (session=\"0eaabc4d54a2f802497bd5eab8d95c65\", element=\"B0EBE7BE0139BA2F68E8C5D08BDB8C7A_element_579\")>,\n",
       " <selenium.webdriver.remote.webelement.WebElement (session=\"0eaabc4d54a2f802497bd5eab8d95c65\", element=\"B0EBE7BE0139BA2F68E8C5D08BDB8C7A_element_580\")>,\n",
       " <selenium.webdriver.remote.webelement.WebElement (session=\"0eaabc4d54a2f802497bd5eab8d95c65\", element=\"B0EBE7BE0139BA2F68E8C5D08BDB8C7A_element_581\")>,\n",
       " <selenium.webdriver.remote.webelement.WebElement (session=\"0eaabc4d54a2f802497bd5eab8d95c65\", element=\"B0EBE7BE0139BA2F68E8C5D08BDB8C7A_element_453\")>,\n",
       " <selenium.webdriver.remote.webelement.WebElement (session=\"0eaabc4d54a2f802497bd5eab8d95c65\", element=\"B0EBE7BE0139BA2F68E8C5D08BDB8C7A_element_460\")>]"
      ]
     },
     "execution_count": 75,
     "metadata": {},
     "output_type": "execute_result"
    }
   ],
   "source": [
    "for i in specification:\n",
    "   \n",
    "    Specification.append(str(i.text).replace(\"\\n\",\"\"))\n",
    "Specification\n",
    "specification[:10]"
   ]
  },
  {
   "cell_type": "markdown",
   "id": "4fe3377e",
   "metadata": {},
   "source": [
    "Question-7"
   ]
  },
  {
   "cell_type": "code",
   "execution_count": 85,
   "id": "bbc9a098",
   "metadata": {},
   "outputs": [],
   "source": [
    "driver=webdriver.Chrome()"
   ]
  },
  {
   "cell_type": "code",
   "execution_count": 86,
   "id": "27d3b61c",
   "metadata": {},
   "outputs": [],
   "source": [
    "driver.get(\"https://www.forbes.com\")"
   ]
  },
  {
   "cell_type": "code",
   "execution_count": 88,
   "id": "970139f8",
   "metadata": {},
   "outputs": [],
   "source": [
    "submit_button=driver.find_element(By.XPATH,\"/html/body/div[1]/header/nav/div[3]/button\")\n",
    "submit_button.click()"
   ]
  },
  {
   "cell_type": "code",
   "execution_count": 89,
   "id": "1f7eb8e8",
   "metadata": {},
   "outputs": [],
   "source": [
    "search=driver.find_element(By.XPATH,\"/html/body/div[1]/div[3]/form/input\")\n",
    "search.send_keys(\"all billionaires\")"
   ]
  },
  {
   "cell_type": "code",
   "execution_count": 90,
   "id": "b883253d",
   "metadata": {},
   "outputs": [],
   "source": [
    "submit=driver.find_element(By.XPATH,\"/html/body/div[1]/div[3]/form/button\")\n",
    "submit.click()"
   ]
  },
  {
   "cell_type": "code",
   "execution_count": 102,
   "id": "eaad0884",
   "metadata": {},
   "outputs": [],
   "source": [
    "title_name=[]\n",
    "Description=[]"
   ]
  },
  {
   "cell_type": "markdown",
   "id": "76f02b0a",
   "metadata": {},
   "source": [
    "Question-8"
   ]
  },
  {
   "cell_type": "code",
   "execution_count": 124,
   "id": "ecc586e9",
   "metadata": {},
   "outputs": [],
   "source": [
    "driver=webdriver.Chrome()"
   ]
  },
  {
   "cell_type": "code",
   "execution_count": 125,
   "id": "7691c3b0",
   "metadata": {},
   "outputs": [],
   "source": [
    "driver.get(\"https://www.youtube.com\")"
   ]
  },
  {
   "cell_type": "code",
   "execution_count": 126,
   "id": "3b3f9a24",
   "metadata": {},
   "outputs": [],
   "source": [
    "search_video=driver.find_element(By.XPATH,\"/html/body/ytd-app/div[1]/ytd-page-manager/ytd-browse/ytd-two-column-browse-results-renderer/div[1]/ytd-rich-grid-renderer/div[6]/ytd-rich-grid-row[3]/div/ytd-rich-item-renderer[2]/div/ytd-rich-grid-media/div[1]/div[3]/div[1]/h3/a/yt-formatted-string\")\n",
    "search_video.click()"
   ]
  },
  {
   "cell_type": "code",
   "execution_count": 127,
   "id": "7ca11d88",
   "metadata": {},
   "outputs": [],
   "source": [
    "scroll_pause_time = 2\n",
    "scrolls = 10\n",
    "\n",
    "for _ in range(scrolls):\n",
    "    driver.execute_script(\"window.scrollTo(0, document.documentElement.scrollHeight);\")"
   ]
  },
  {
   "cell_type": "code",
   "execution_count": 128,
   "id": "9b521a4c",
   "metadata": {},
   "outputs": [],
   "source": [
    "comments=[]\n",
    "time=[]"
   ]
  },
  {
   "cell_type": "code",
   "execution_count": 130,
   "id": "4a4dd2ae",
   "metadata": {},
   "outputs": [],
   "source": [
    "comments=driver.find_elements(By.XPATH,\"//div[@class='style-scope ytd-expander']\")\n",
    "time=driver.find_elements(By.XPATH,\"//a[@class='yt-simple-endpoint style-scope yt-formatted-string']\")\n",
    "extracted_data = []\n",
    "for comments,time in zip(comments,time):\n",
    "    extracted_data.append({'comments': comments.text, 'time':time.text})"
   ]
  },
  {
   "cell_type": "code",
   "execution_count": 131,
   "id": "7e34254c",
   "metadata": {},
   "outputs": [
    {
     "name": "stdout",
     "output_type": "stream",
     "text": [
      "{'comments': '', 'time': 'Lofi Music 0715'}\n",
      "{'comments': 'Late night + earphones + volume up +alone +singing along with the song+ eyes closed+ recalling the best memories = a different vibe', 'time': ''}\n",
      "{'comments': 'Fallen in love with this song. I so can relate to the movie as iam too a cancer patient so please everyone keep me in your prayers', 'time': ''}\n",
      "{'comments': \"Dear parents: Just because your child is smiling at their phone, doesn't mean they have a boyfriend or girlfriend, they are watching this masterpiece!\", 'time': ''}\n",
      "{'comments': 'Midnight + dark room + earphones + broken memories + her image in ur dreams + this song = just speechless feeling ', 'time': '4 days ago'}\n",
      "{'comments': 'Single hoke bhi sad ganna sunne ka maza hi   kush alak gai', 'time': '5 days ago'}\n",
      "{'comments': 'This Song + Headphones + Midnight  + in blankets, but no crush in mind, just thinking about my Invisible Future ', 'time': '9 days ago'}\n",
      "{'comments': 'Best song ever I hear', 'time': '2 days ago'}\n",
      "{'comments': 'Memories + vibe + slow  rain + dark room + waiting to meet him + earphone = heaven ', 'time': '5 days ago'}\n",
      "{'comments': \"I am single... But one sided love.... And I have a crush but he doesn't care about me... I am happy and miss him so much ... I love this love songs and sad songs...... \", 'time': '4 days ago'}\n",
      "{'comments': 'Memories + vibe + slow  rain + dark room + waiting to meet him + earphone = heaven ', 'time': '2 days ago'}\n",
      "{'comments': 'Amazing  mashup', 'time': '8 days ago'}\n",
      "{'comments': 'Alone + headphones + night+music=peace', 'time': '6 days ago'}\n",
      "{'comments': 'Alone / jobless/ breakup / /fake friends /  = this song night', 'time': '2 days ago'}\n",
      "{'comments': \"This mashup + reading + waiting for the timid lover's talks with her = <3\", 'time': '6 days ago'}\n",
      "{'comments': 'This is my life ', 'time': '8 days ago'}\n",
      "{'comments': 'Keep it up bruhh Good Luck', 'time': '6 days ago'}\n",
      "{'comments': 'Late night+solving math question+low volume+door closed+️= best feeling', 'time': '1 day ago'}\n",
      "{'comments': 'Whoever’s reading this, I pray that whatever your going through gets better and whatever your struggling with or worrying about is going to be fine and that everyone has a fantastic day!', 'time': '7 days ago'}\n",
      "{'comments': 'Mid night+rainy weather+favourite person+this song+dance=Best moments ', 'time': '9 days ago'}\n",
      "{'comments': 'I love this song so much ', 'time': '3 hours ago'}\n",
      "{'comments': 'One of the best mashup', 'time': '9 days ago'}\n",
      "{'comments': 'One good thing about music, when it hits you, you feel no pain.', 'time': '34 minutes ago'}\n",
      "{'comments': 'Wht a mashup', 'time': '7 days ago'}\n",
      "{'comments': 'Take me to moon best massup', 'time': '3 days ago'}\n",
      "{'comments': 'Pizza hut + this Mashup +Pastry ', 'time': '9 days ago'}\n",
      "{'comments': '', 'time': '1 day ago'}\n",
      "{'comments': 'Lovely songs', 'time': '7 days ago'}\n",
      "{'comments': 'No gf but I love mom dad love you momdad ', 'time': '19 minutes ago'}\n",
      "{'comments': 'Amazing Mashup.  I was listening to this in my office in Bangalore with a headphone . And I just started to miss my parents and especially my elder brother. I miss him so much', 'time': '9 days ago'}\n",
      "{'comments': 'Wow ', 'time': '32 minutes ago'}\n",
      "{'comments': 'Dark room + headphones+ listening this song on full volume + alone + raining +sitting on a window  + night +close eyes = heaven (swarg)', 'time': '8 days ago'}\n",
      "{'comments': 'Wow so beautiful Song', 'time': '7 days ago'}\n",
      "{'comments': 'You are broken and listing this another level of pain', 'time': '6 days ago'}\n",
      "{'comments': \"Potiroom+along+earphone+closes +it's defarent fellings bro \", 'time': '9 days ago'}\n",
      "{'comments': 'Travelling+window seat+cool weather+light raining+ earphones+ eyes closed+ remember someone= best feeling ever', 'time': '4 days ago'}\n",
      "{'comments': \"Sometimes mind wants to quit but heart wants to try once even after knowing we will get hurt. And there's the music comes which heals everything \", 'time': '2 days ago'}\n",
      "{'comments': 'Nice video bro ', 'time': '4 days ago'}\n",
      "{'comments': 'love this song', 'time': '5 days ago'}\n",
      "{'comments': 'Atuf , Arijit, Armaan, Amaal <3', 'time': '9 days ago'}\n",
      "{'comments': 'nice', 'time': '1 day ago'}\n",
      "{'comments': 'Piritijaswal938marijanumavishalsarmabolrahahumarijanbotpyarkartahumatumsamarijanhoiloujanmisujanmaripiritijaswal 5:33 5:33', 'time': '1 day ago'}\n",
      "{'comments': 'Your channel is my go-to destination for the best of Indian music. The catchy tunes and infectious rhythms never fail to put a smile on my face. Kudos to you for promoting the beauty of Bollywood!', 'time': '1 day ago'}\n",
      "{'comments': 'रोज एक उम्मीद होती है की वो एक दिन हमे समझेंगे और अपना प्यार जरुर अपनाएंगे ', 'time': '4 days ago'}\n",
      "{'comments': 'Wonderful song', 'time': '9 days ago (edited)'}\n",
      "{'comments': 'Md agr off ho to song  sunke mast ho jta h ', 'time': '5:33'}\n",
      "{'comments': 'Mind relaxing,,', 'time': '5:33'}\n",
      "{'comments': 'I love your  this song ', 'time': '3 days ago'}\n",
      "{'comments': 'Awesome yrr ️', 'time': '1 day ago'}\n",
      "{'comments': \"This song  + headphones + old memory's + wonderful feeling+ + travels in = \", 'time': '8 days ago'}\n",
      "{'comments': 'Music fills the infinite space between two souls ', 'time': '2 days ago'}\n",
      "{'comments': 'Kon kon sirf enjoyment ke liye song sunta hai ', 'time': '4 days ago'}\n",
      "{'comments': 'Mind relaxing lofi song', 'time': '4 days ago'}\n",
      "{'comments': 'Love you song️️', 'time': '9 days ago'}\n",
      "{'comments': 'So nice song ', 'time': '20 hours ago'}\n",
      "{'comments': '', 'time': '5 days ago'}\n",
      "{'comments': 'I like songs️️', 'time': '22 hours ago'}\n",
      "{'comments': 'Nice', 'time': '3 days ago'}\n",
      "{'comments': '43:13 to 43:43 ', 'time': '2 days ago'}\n",
      "{'comments': 'This song feel pain ', 'time': '7 days ago'}\n",
      "{'comments': 'I am single but I love sad song and love songs ️', 'time': '9 days ago'}\n",
      "{'comments': 'Missing', 'time': '1 day ago'}\n",
      "{'comments': 'I love song ', 'time': '1 day ago'}\n",
      "{'comments': '', 'time': '1 day ago'}\n",
      "{'comments': '', 'time': '43:13'}\n",
      "{'comments': '', 'time': '43:43'}\n",
      "{'comments': 'Miss you ', 'time': '19 hours ago'}\n",
      "{'comments': 'How can i download this mashup??', 'time': '7 days ago'}\n",
      "{'comments': '', 'time': '6 days ago'}\n",
      "{'comments': '', 'time': '1 day ago'}\n",
      "{'comments': 'wow', 'time': '5 days ago'}\n",
      "{'comments': 'Hii bro good u', 'time': '13 hours ago'}\n",
      "{'comments': 'I love song I like', 'time': '4 days ago'}\n",
      "{'comments': '', 'time': '1 day ago'}\n",
      "{'comments': '', 'time': '11 minutes ago'}\n",
      "{'comments': 'My love is send me your song link so heart tach song ️', 'time': '4 days ago'}\n",
      "{'comments': '', 'time': '5 days ago'}\n",
      "{'comments': 'Copyright para ya nhi', 'time': '2 days ago'}\n",
      "{'comments': 'Copyright nhi ata', 'time': '5 days ago'}\n",
      "{'comments': 'Dawnlod link bro plzz', 'time': '7 days ago'}\n",
      "{'comments': 'Bhai Apka channel monotiz ho Gaya Hai Kya', 'time': '3 days ago'}\n"
     ]
    }
   ],
   "source": [
    "for data in extracted_data:\n",
    "    print(data)"
   ]
  },
  {
   "cell_type": "markdown",
   "id": "c1e70404",
   "metadata": {},
   "source": [
    "Question-9"
   ]
  },
  {
   "cell_type": "code",
   "execution_count": 138,
   "id": "b5a66afe",
   "metadata": {},
   "outputs": [],
   "source": [
    "driver=webdriver.Chrome()"
   ]
  },
  {
   "cell_type": "code",
   "execution_count": 139,
   "id": "c4e1eec6",
   "metadata": {},
   "outputs": [],
   "source": [
    "driver.get(\"https://www.hostelworld.com\")"
   ]
  },
  {
   "cell_type": "code",
   "execution_count": 146,
   "id": "b136f9de",
   "metadata": {},
   "outputs": [],
   "source": [
    "search=driver.find_element(By.XPATH,\"/html/body/div[3]/div/div/div[2]/div[2]/div[2]/div/div/div/div[1]/div[1]/div/div[2]/input\")\n",
    "search.send_keys(\"London\")"
   ]
  },
  {
   "cell_type": "code",
   "execution_count": 147,
   "id": "4aa5e8b3",
   "metadata": {},
   "outputs": [],
   "source": [
    "submit_button=driver.find_element(By.XPATH,\"/html/body/div[3]/div/div/div[2]/div[2]/div[2]/div/div/div/div[1]/div[2]/div/ul/li[2]/button/div[2]/div[1]\")\n",
    "submit_button.click()"
   ]
  },
  {
   "cell_type": "code",
   "execution_count": 148,
   "id": "2e77cbc4",
   "metadata": {},
   "outputs": [],
   "source": [
    "submit=driver.find_element(By.XPATH,\"/html/body/div[3]/div/div/div[2]/div[2]/div[2]/div/div/div/div[5]/button[1]\")\n",
    "submit.click()"
   ]
  },
  {
   "cell_type": "code",
   "execution_count": 149,
   "id": "93a39553",
   "metadata": {},
   "outputs": [],
   "source": [
    "title_name=[]\n",
    "ratings=[]\n",
    "distance=[]\n",
    "price=[]"
   ]
  },
  {
   "cell_type": "code",
   "execution_count": 167,
   "id": "18190145",
   "metadata": {},
   "outputs": [],
   "source": [
    "title_name=driver.find_elements(By.XPATH,\"//div[@class='property-name']\")\n",
    "ratings=driver.find_elements(By.XPATH,\"//span[@class='number']\")\n",
    "distance=driver.find_elements(By.XPATH,\"//span[@class='distance-description']\")\n",
    "price=driver.find_elements(By.XPATH,\"//strong[@class='current']\")\n",
    "data = []\n",
    "for i in range(20):\n",
    "    job = {'title_name': title_name[i].text,'ratings': ratings[i].text,'distance': distance[i].text,'price': price[i].text}\n",
    "    data.append(job)"
   ]
  },
  {
   "cell_type": "code",
   "execution_count": 168,
   "id": "31f5252d",
   "metadata": {},
   "outputs": [],
   "source": [
    "df=pd.DataFrame(data)"
   ]
  },
  {
   "cell_type": "code",
   "execution_count": null,
   "id": "505b378b",
   "metadata": {},
   "outputs": [],
   "source": []
  }
 ],
 "metadata": {
  "kernelspec": {
   "display_name": "Python 3 (ipykernel)",
   "language": "python",
   "name": "python3"
  },
  "language_info": {
   "codemirror_mode": {
    "name": "ipython",
    "version": 3
   },
   "file_extension": ".py",
   "mimetype": "text/x-python",
   "name": "python",
   "nbconvert_exporter": "python",
   "pygments_lexer": "ipython3",
   "version": "3.10.9"
  }
 },
 "nbformat": 4,
 "nbformat_minor": 5
}
